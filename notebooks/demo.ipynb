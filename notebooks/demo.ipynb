{
 "cells": [
  {
   "cell_type": "code",
   "execution_count": 1,
   "id": "22dc3176-7c7d-4953-8997-8f3349538709",
   "metadata": {},
   "outputs": [],
   "source": [
    "import polars as pl"
   ]
  },
  {
   "cell_type": "code",
   "execution_count": 3,
   "id": "a7288cc5-cb43-465d-a3bd-e8fd5720980c",
   "metadata": {},
   "outputs": [
    {
     "name": "stdout",
     "output_type": "stream",
     "text": [
      "4.73 ms ± 391 μs per loop (mean ± std. dev. of 7 runs, 100 loops each)\n"
     ]
    }
   ],
   "source": [
    "%timeit pl.read_csv(\"../data/2000-2023_ca_least_tern.csv\")"
   ]
  },
  {
   "cell_type": "code",
   "execution_count": 4,
   "id": "c452fa70-d607-4ab1-96b1-4cc2cb2fe7bb",
   "metadata": {},
   "outputs": [],
   "source": [
    "import pandas as pd"
   ]
  },
  {
   "cell_type": "code",
   "execution_count": 5,
   "id": "ada98826-6cd6-492e-9369-b0236978ff28",
   "metadata": {},
   "outputs": [
    {
     "name": "stdout",
     "output_type": "stream",
     "text": [
      "9.5 ms ± 215 μs per loop (mean ± std. dev. of 7 runs, 100 loops each)\n"
     ]
    }
   ],
   "source": [
    "%timeit pd.read_csv(\"../data/2000-2023_ca_least_tern.csv\")"
   ]
  },
  {
   "cell_type": "code",
   "execution_count": 9,
   "id": "bb9c308d-4a8e-45f9-ba75-2f7b8291fb66",
   "metadata": {},
   "outputs": [
    {
     "ename": "ComputeError",
     "evalue": "could not parse `Not Applicable` as dtype `i64` at column 'Model_Year' (column number 6)\n\nThe current offset in the file is 1947087 bytes.\n\nYou might want to try:\n- increasing `infer_schema_length` (e.g. `infer_schema_length=10000`),\n- specifying correct dtype with the `schema_overrides` argument\n- setting `ignore_errors` to `True`,\n- adding `Not Applicable` to the `null_values` list.\n\nOriginal error: ```remaining bytes non-empty```",
     "output_type": "error",
     "traceback": [
      "\u001b[31m---------------------------------------------------------------------------\u001b[39m",
      "\u001b[31mComputeError\u001b[39m                              Traceback (most recent call last)",
      "\u001b[36mCell\u001b[39m\u001b[36m \u001b[39m\u001b[32mIn[9]\u001b[39m\u001b[32m, line 1\u001b[39m\n\u001b[32m----> \u001b[39m\u001b[32m1\u001b[39m fleet = \u001b[43mpl\u001b[49m\u001b[43m.\u001b[49m\u001b[43mread_csv\u001b[49m\u001b[43m(\u001b[49m\u001b[33;43m\"\u001b[39;49m\u001b[33;43m../data/ca_state_fleet/california-state-fleet-2015-2023.csv\u001b[39;49m\u001b[33;43m\"\u001b[39;49m\u001b[43m,\u001b[49m\u001b[43m \u001b[49m\u001b[43mencoding\u001b[49m\u001b[43m \u001b[49m\u001b[43m=\u001b[49m\u001b[43m \u001b[49m\u001b[33;43m\"\u001b[39;49m\u001b[33;43mutf8-lossy\u001b[39;49m\u001b[33;43m\"\u001b[39;49m\u001b[43m,\u001b[49m\u001b[43m \u001b[49m\u001b[43mnull_values\u001b[49m\u001b[43m \u001b[49m\u001b[43m=\u001b[49m\u001b[43m \u001b[49m\u001b[43m[\u001b[49m\u001b[33;43m\"\u001b[39;49m\u001b[33;43mNull\u001b[39;49m\u001b[33;43m\"\u001b[39;49m\u001b[43m]\u001b[49m\u001b[43m)\u001b[49m\n",
      "\u001b[36mFile \u001b[39m\u001b[32m~/mill/datalab/rlcs/dpug/polars_demo/.pixi/envs/default/lib/python3.13/site-packages/polars/_utils/deprecation.py:92\u001b[39m, in \u001b[36mdeprecate_renamed_parameter.<locals>.decorate.<locals>.wrapper\u001b[39m\u001b[34m(*args, **kwargs)\u001b[39m\n\u001b[32m     87\u001b[39m \u001b[38;5;129m@wraps\u001b[39m(function)\n\u001b[32m     88\u001b[39m \u001b[38;5;28;01mdef\u001b[39;00m\u001b[38;5;250m \u001b[39m\u001b[34mwrapper\u001b[39m(*args: P.args, **kwargs: P.kwargs) -> T:\n\u001b[32m     89\u001b[39m     _rename_keyword_argument(\n\u001b[32m     90\u001b[39m         old_name, new_name, kwargs, function.\u001b[34m__qualname__\u001b[39m, version\n\u001b[32m     91\u001b[39m     )\n\u001b[32m---> \u001b[39m\u001b[32m92\u001b[39m     \u001b[38;5;28;01mreturn\u001b[39;00m \u001b[43mfunction\u001b[49m\u001b[43m(\u001b[49m\u001b[43m*\u001b[49m\u001b[43margs\u001b[49m\u001b[43m,\u001b[49m\u001b[43m \u001b[49m\u001b[43m*\u001b[49m\u001b[43m*\u001b[49m\u001b[43mkwargs\u001b[49m\u001b[43m)\u001b[49m\n",
      "\u001b[36mFile \u001b[39m\u001b[32m~/mill/datalab/rlcs/dpug/polars_demo/.pixi/envs/default/lib/python3.13/site-packages/polars/_utils/deprecation.py:92\u001b[39m, in \u001b[36mdeprecate_renamed_parameter.<locals>.decorate.<locals>.wrapper\u001b[39m\u001b[34m(*args, **kwargs)\u001b[39m\n\u001b[32m     87\u001b[39m \u001b[38;5;129m@wraps\u001b[39m(function)\n\u001b[32m     88\u001b[39m \u001b[38;5;28;01mdef\u001b[39;00m\u001b[38;5;250m \u001b[39m\u001b[34mwrapper\u001b[39m(*args: P.args, **kwargs: P.kwargs) -> T:\n\u001b[32m     89\u001b[39m     _rename_keyword_argument(\n\u001b[32m     90\u001b[39m         old_name, new_name, kwargs, function.\u001b[34m__qualname__\u001b[39m, version\n\u001b[32m     91\u001b[39m     )\n\u001b[32m---> \u001b[39m\u001b[32m92\u001b[39m     \u001b[38;5;28;01mreturn\u001b[39;00m \u001b[43mfunction\u001b[49m\u001b[43m(\u001b[49m\u001b[43m*\u001b[49m\u001b[43margs\u001b[49m\u001b[43m,\u001b[49m\u001b[43m \u001b[49m\u001b[43m*\u001b[49m\u001b[43m*\u001b[49m\u001b[43mkwargs\u001b[49m\u001b[43m)\u001b[49m\n",
      "\u001b[36mFile \u001b[39m\u001b[32m~/mill/datalab/rlcs/dpug/polars_demo/.pixi/envs/default/lib/python3.13/site-packages/polars/_utils/deprecation.py:92\u001b[39m, in \u001b[36mdeprecate_renamed_parameter.<locals>.decorate.<locals>.wrapper\u001b[39m\u001b[34m(*args, **kwargs)\u001b[39m\n\u001b[32m     87\u001b[39m \u001b[38;5;129m@wraps\u001b[39m(function)\n\u001b[32m     88\u001b[39m \u001b[38;5;28;01mdef\u001b[39;00m\u001b[38;5;250m \u001b[39m\u001b[34mwrapper\u001b[39m(*args: P.args, **kwargs: P.kwargs) -> T:\n\u001b[32m     89\u001b[39m     _rename_keyword_argument(\n\u001b[32m     90\u001b[39m         old_name, new_name, kwargs, function.\u001b[34m__qualname__\u001b[39m, version\n\u001b[32m     91\u001b[39m     )\n\u001b[32m---> \u001b[39m\u001b[32m92\u001b[39m     \u001b[38;5;28;01mreturn\u001b[39;00m \u001b[43mfunction\u001b[49m\u001b[43m(\u001b[49m\u001b[43m*\u001b[49m\u001b[43margs\u001b[49m\u001b[43m,\u001b[49m\u001b[43m \u001b[49m\u001b[43m*\u001b[49m\u001b[43m*\u001b[49m\u001b[43mkwargs\u001b[49m\u001b[43m)\u001b[49m\n",
      "\u001b[36mFile \u001b[39m\u001b[32m~/mill/datalab/rlcs/dpug/polars_demo/.pixi/envs/default/lib/python3.13/site-packages/polars/io/csv/functions.py:537\u001b[39m, in \u001b[36mread_csv\u001b[39m\u001b[34m(source, has_header, columns, new_columns, separator, comment_prefix, quote_char, skip_rows, skip_lines, schema, schema_overrides, null_values, missing_utf8_is_empty_string, ignore_errors, try_parse_dates, n_threads, infer_schema, infer_schema_length, batch_size, n_rows, encoding, low_memory, rechunk, use_pyarrow, storage_options, skip_rows_after_header, row_index_name, row_index_offset, sample_size, eol_char, raise_if_empty, truncate_ragged_lines, decimal_comma, glob)\u001b[39m\n\u001b[32m    529\u001b[39m \u001b[38;5;28;01melse\u001b[39;00m:\n\u001b[32m    530\u001b[39m     \u001b[38;5;28;01mwith\u001b[39;00m prepare_file_arg(\n\u001b[32m    531\u001b[39m         source,\n\u001b[32m    532\u001b[39m         encoding=encoding,\n\u001b[32m   (...)\u001b[39m\u001b[32m    535\u001b[39m         storage_options=storage_options,\n\u001b[32m    536\u001b[39m     ) \u001b[38;5;28;01mas\u001b[39;00m data:\n\u001b[32m--> \u001b[39m\u001b[32m537\u001b[39m         df = \u001b[43m_read_csv_impl\u001b[49m\u001b[43m(\u001b[49m\n\u001b[32m    538\u001b[39m \u001b[43m            \u001b[49m\u001b[43mdata\u001b[49m\u001b[43m,\u001b[49m\n\u001b[32m    539\u001b[39m \u001b[43m            \u001b[49m\u001b[43mhas_header\u001b[49m\u001b[43m=\u001b[49m\u001b[43mhas_header\u001b[49m\u001b[43m,\u001b[49m\n\u001b[32m    540\u001b[39m \u001b[43m            \u001b[49m\u001b[43mcolumns\u001b[49m\u001b[43m=\u001b[49m\u001b[43mcolumns\u001b[49m\u001b[43m \u001b[49m\u001b[38;5;28;43;01mif\u001b[39;49;00m\u001b[43m \u001b[49m\u001b[43mcolumns\u001b[49m\u001b[43m \u001b[49m\u001b[38;5;28;43;01melse\u001b[39;49;00m\u001b[43m \u001b[49m\u001b[43mprojection\u001b[49m\u001b[43m,\u001b[49m\n\u001b[32m    541\u001b[39m \u001b[43m            \u001b[49m\u001b[43mseparator\u001b[49m\u001b[43m=\u001b[49m\u001b[43mseparator\u001b[49m\u001b[43m,\u001b[49m\n\u001b[32m    542\u001b[39m \u001b[43m            \u001b[49m\u001b[43mcomment_prefix\u001b[49m\u001b[43m=\u001b[49m\u001b[43mcomment_prefix\u001b[49m\u001b[43m,\u001b[49m\n\u001b[32m    543\u001b[39m \u001b[43m            \u001b[49m\u001b[43mquote_char\u001b[49m\u001b[43m=\u001b[49m\u001b[43mquote_char\u001b[49m\u001b[43m,\u001b[49m\n\u001b[32m    544\u001b[39m \u001b[43m            \u001b[49m\u001b[43mskip_rows\u001b[49m\u001b[43m=\u001b[49m\u001b[43mskip_rows\u001b[49m\u001b[43m,\u001b[49m\n\u001b[32m    545\u001b[39m \u001b[43m            \u001b[49m\u001b[43mskip_lines\u001b[49m\u001b[43m=\u001b[49m\u001b[43mskip_lines\u001b[49m\u001b[43m,\u001b[49m\n\u001b[32m    546\u001b[39m \u001b[43m            \u001b[49m\u001b[43mschema_overrides\u001b[49m\u001b[43m=\u001b[49m\u001b[43mschema_overrides\u001b[49m\u001b[43m,\u001b[49m\n\u001b[32m    547\u001b[39m \u001b[43m            \u001b[49m\u001b[43mschema\u001b[49m\u001b[43m=\u001b[49m\u001b[43mschema\u001b[49m\u001b[43m,\u001b[49m\n\u001b[32m    548\u001b[39m \u001b[43m            \u001b[49m\u001b[43mnull_values\u001b[49m\u001b[43m=\u001b[49m\u001b[43mnull_values\u001b[49m\u001b[43m,\u001b[49m\n\u001b[32m    549\u001b[39m \u001b[43m            \u001b[49m\u001b[43mmissing_utf8_is_empty_string\u001b[49m\u001b[43m=\u001b[49m\u001b[43mmissing_utf8_is_empty_string\u001b[49m\u001b[43m,\u001b[49m\n\u001b[32m    550\u001b[39m \u001b[43m            \u001b[49m\u001b[43mignore_errors\u001b[49m\u001b[43m=\u001b[49m\u001b[43mignore_errors\u001b[49m\u001b[43m,\u001b[49m\n\u001b[32m    551\u001b[39m \u001b[43m            \u001b[49m\u001b[43mtry_parse_dates\u001b[49m\u001b[43m=\u001b[49m\u001b[43mtry_parse_dates\u001b[49m\u001b[43m,\u001b[49m\n\u001b[32m    552\u001b[39m \u001b[43m            \u001b[49m\u001b[43mn_threads\u001b[49m\u001b[43m=\u001b[49m\u001b[43mn_threads\u001b[49m\u001b[43m,\u001b[49m\n\u001b[32m    553\u001b[39m \u001b[43m            \u001b[49m\u001b[43minfer_schema_length\u001b[49m\u001b[43m=\u001b[49m\u001b[43minfer_schema_length\u001b[49m\u001b[43m,\u001b[49m\n\u001b[32m    554\u001b[39m \u001b[43m            \u001b[49m\u001b[43mbatch_size\u001b[49m\u001b[43m=\u001b[49m\u001b[43mbatch_size\u001b[49m\u001b[43m,\u001b[49m\n\u001b[32m    555\u001b[39m \u001b[43m            \u001b[49m\u001b[43mn_rows\u001b[49m\u001b[43m=\u001b[49m\u001b[43mn_rows\u001b[49m\u001b[43m,\u001b[49m\n\u001b[32m    556\u001b[39m \u001b[43m            \u001b[49m\u001b[43mencoding\u001b[49m\u001b[43m=\u001b[49m\u001b[43mencoding\u001b[49m\u001b[43m \u001b[49m\u001b[38;5;28;43;01mif\u001b[39;49;00m\u001b[43m \u001b[49m\u001b[43mencoding\u001b[49m\u001b[43m \u001b[49m\u001b[43m==\u001b[49m\u001b[43m \u001b[49m\u001b[33;43m\"\u001b[39;49m\u001b[33;43mutf8-lossy\u001b[39;49m\u001b[33;43m\"\u001b[39;49m\u001b[43m \u001b[49m\u001b[38;5;28;43;01melse\u001b[39;49;00m\u001b[43m \u001b[49m\u001b[33;43m\"\u001b[39;49m\u001b[33;43mutf8\u001b[39;49m\u001b[33;43m\"\u001b[39;49m\u001b[43m,\u001b[49m\n\u001b[32m    557\u001b[39m \u001b[43m            \u001b[49m\u001b[43mlow_memory\u001b[49m\u001b[43m=\u001b[49m\u001b[43mlow_memory\u001b[49m\u001b[43m,\u001b[49m\n\u001b[32m    558\u001b[39m \u001b[43m            \u001b[49m\u001b[43mrechunk\u001b[49m\u001b[43m=\u001b[49m\u001b[43mrechunk\u001b[49m\u001b[43m,\u001b[49m\n\u001b[32m    559\u001b[39m \u001b[43m            \u001b[49m\u001b[43mskip_rows_after_header\u001b[49m\u001b[43m=\u001b[49m\u001b[43mskip_rows_after_header\u001b[49m\u001b[43m,\u001b[49m\n\u001b[32m    560\u001b[39m \u001b[43m            \u001b[49m\u001b[43mrow_index_name\u001b[49m\u001b[43m=\u001b[49m\u001b[43mrow_index_name\u001b[49m\u001b[43m,\u001b[49m\n\u001b[32m    561\u001b[39m \u001b[43m            \u001b[49m\u001b[43mrow_index_offset\u001b[49m\u001b[43m=\u001b[49m\u001b[43mrow_index_offset\u001b[49m\u001b[43m,\u001b[49m\n\u001b[32m    562\u001b[39m \u001b[43m            \u001b[49m\u001b[43meol_char\u001b[49m\u001b[43m=\u001b[49m\u001b[43meol_char\u001b[49m\u001b[43m,\u001b[49m\n\u001b[32m    563\u001b[39m \u001b[43m            \u001b[49m\u001b[43mraise_if_empty\u001b[49m\u001b[43m=\u001b[49m\u001b[43mraise_if_empty\u001b[49m\u001b[43m,\u001b[49m\n\u001b[32m    564\u001b[39m \u001b[43m            \u001b[49m\u001b[43mtruncate_ragged_lines\u001b[49m\u001b[43m=\u001b[49m\u001b[43mtruncate_ragged_lines\u001b[49m\u001b[43m,\u001b[49m\n\u001b[32m    565\u001b[39m \u001b[43m            \u001b[49m\u001b[43mdecimal_comma\u001b[49m\u001b[43m=\u001b[49m\u001b[43mdecimal_comma\u001b[49m\u001b[43m,\u001b[49m\n\u001b[32m    566\u001b[39m \u001b[43m            \u001b[49m\u001b[43mglob\u001b[49m\u001b[43m=\u001b[49m\u001b[43mglob\u001b[49m\u001b[43m,\u001b[49m\n\u001b[32m    567\u001b[39m \u001b[43m        \u001b[49m\u001b[43m)\u001b[49m\n\u001b[32m    569\u001b[39m \u001b[38;5;28;01mif\u001b[39;00m new_columns:\n\u001b[32m    570\u001b[39m     \u001b[38;5;28;01mreturn\u001b[39;00m _update_columns(df, new_columns)\n",
      "\u001b[36mFile \u001b[39m\u001b[32m~/mill/datalab/rlcs/dpug/polars_demo/.pixi/envs/default/lib/python3.13/site-packages/polars/io/csv/functions.py:685\u001b[39m, in \u001b[36m_read_csv_impl\u001b[39m\u001b[34m(source, has_header, columns, separator, comment_prefix, quote_char, skip_rows, skip_lines, schema, schema_overrides, null_values, missing_utf8_is_empty_string, ignore_errors, try_parse_dates, n_threads, infer_schema_length, batch_size, n_rows, encoding, low_memory, rechunk, skip_rows_after_header, row_index_name, row_index_offset, sample_size, eol_char, raise_if_empty, truncate_ragged_lines, decimal_comma, glob)\u001b[39m\n\u001b[32m    681\u001b[39m         \u001b[38;5;28;01mraise\u001b[39;00m \u001b[38;5;167;01mValueError\u001b[39;00m(msg)\n\u001b[32m    683\u001b[39m projection, columns = parse_columns_arg(columns)\n\u001b[32m--> \u001b[39m\u001b[32m685\u001b[39m pydf = \u001b[43mPyDataFrame\u001b[49m\u001b[43m.\u001b[49m\u001b[43mread_csv\u001b[49m\u001b[43m(\u001b[49m\n\u001b[32m    686\u001b[39m \u001b[43m    \u001b[49m\u001b[43msource\u001b[49m\u001b[43m,\u001b[49m\n\u001b[32m    687\u001b[39m \u001b[43m    \u001b[49m\u001b[43minfer_schema_length\u001b[49m\u001b[43m,\u001b[49m\n\u001b[32m    688\u001b[39m \u001b[43m    \u001b[49m\u001b[43mbatch_size\u001b[49m\u001b[43m,\u001b[49m\n\u001b[32m    689\u001b[39m \u001b[43m    \u001b[49m\u001b[43mhas_header\u001b[49m\u001b[43m,\u001b[49m\n\u001b[32m    690\u001b[39m \u001b[43m    \u001b[49m\u001b[43mignore_errors\u001b[49m\u001b[43m,\u001b[49m\n\u001b[32m    691\u001b[39m \u001b[43m    \u001b[49m\u001b[43mn_rows\u001b[49m\u001b[43m,\u001b[49m\n\u001b[32m    692\u001b[39m \u001b[43m    \u001b[49m\u001b[43mskip_rows\u001b[49m\u001b[43m,\u001b[49m\n\u001b[32m    693\u001b[39m \u001b[43m    \u001b[49m\u001b[43mskip_lines\u001b[49m\u001b[43m,\u001b[49m\n\u001b[32m    694\u001b[39m \u001b[43m    \u001b[49m\u001b[43mprojection\u001b[49m\u001b[43m,\u001b[49m\n\u001b[32m    695\u001b[39m \u001b[43m    \u001b[49m\u001b[43mseparator\u001b[49m\u001b[43m,\u001b[49m\n\u001b[32m    696\u001b[39m \u001b[43m    \u001b[49m\u001b[43mrechunk\u001b[49m\u001b[43m,\u001b[49m\n\u001b[32m    697\u001b[39m \u001b[43m    \u001b[49m\u001b[43mcolumns\u001b[49m\u001b[43m,\u001b[49m\n\u001b[32m    698\u001b[39m \u001b[43m    \u001b[49m\u001b[43mencoding\u001b[49m\u001b[43m,\u001b[49m\n\u001b[32m    699\u001b[39m \u001b[43m    \u001b[49m\u001b[43mn_threads\u001b[49m\u001b[43m,\u001b[49m\n\u001b[32m    700\u001b[39m \u001b[43m    \u001b[49m\u001b[43mpath\u001b[49m\u001b[43m,\u001b[49m\n\u001b[32m    701\u001b[39m \u001b[43m    \u001b[49m\u001b[43mdtype_list\u001b[49m\u001b[43m,\u001b[49m\n\u001b[32m    702\u001b[39m \u001b[43m    \u001b[49m\u001b[43mdtype_slice\u001b[49m\u001b[43m,\u001b[49m\n\u001b[32m    703\u001b[39m \u001b[43m    \u001b[49m\u001b[43mlow_memory\u001b[49m\u001b[43m,\u001b[49m\n\u001b[32m    704\u001b[39m \u001b[43m    \u001b[49m\u001b[43mcomment_prefix\u001b[49m\u001b[43m,\u001b[49m\n\u001b[32m    705\u001b[39m \u001b[43m    \u001b[49m\u001b[43mquote_char\u001b[49m\u001b[43m,\u001b[49m\n\u001b[32m    706\u001b[39m \u001b[43m    \u001b[49m\u001b[43mprocessed_null_values\u001b[49m\u001b[43m,\u001b[49m\n\u001b[32m    707\u001b[39m \u001b[43m    \u001b[49m\u001b[43mmissing_utf8_is_empty_string\u001b[49m\u001b[43m,\u001b[49m\n\u001b[32m    708\u001b[39m \u001b[43m    \u001b[49m\u001b[43mtry_parse_dates\u001b[49m\u001b[43m,\u001b[49m\n\u001b[32m    709\u001b[39m \u001b[43m    \u001b[49m\u001b[43mskip_rows_after_header\u001b[49m\u001b[43m,\u001b[49m\n\u001b[32m    710\u001b[39m \u001b[43m    \u001b[49m\u001b[43mparse_row_index_args\u001b[49m\u001b[43m(\u001b[49m\u001b[43mrow_index_name\u001b[49m\u001b[43m,\u001b[49m\u001b[43m \u001b[49m\u001b[43mrow_index_offset\u001b[49m\u001b[43m)\u001b[49m\u001b[43m,\u001b[49m\n\u001b[32m    711\u001b[39m \u001b[43m    \u001b[49m\u001b[43meol_char\u001b[49m\u001b[43m=\u001b[49m\u001b[43meol_char\u001b[49m\u001b[43m,\u001b[49m\n\u001b[32m    712\u001b[39m \u001b[43m    \u001b[49m\u001b[43mraise_if_empty\u001b[49m\u001b[43m=\u001b[49m\u001b[43mraise_if_empty\u001b[49m\u001b[43m,\u001b[49m\n\u001b[32m    713\u001b[39m \u001b[43m    \u001b[49m\u001b[43mtruncate_ragged_lines\u001b[49m\u001b[43m=\u001b[49m\u001b[43mtruncate_ragged_lines\u001b[49m\u001b[43m,\u001b[49m\n\u001b[32m    714\u001b[39m \u001b[43m    \u001b[49m\u001b[43mdecimal_comma\u001b[49m\u001b[43m=\u001b[49m\u001b[43mdecimal_comma\u001b[49m\u001b[43m,\u001b[49m\n\u001b[32m    715\u001b[39m \u001b[43m    \u001b[49m\u001b[43mschema\u001b[49m\u001b[43m=\u001b[49m\u001b[43mschema\u001b[49m\u001b[43m,\u001b[49m\n\u001b[32m    716\u001b[39m \u001b[43m\u001b[49m\u001b[43m)\u001b[49m\n\u001b[32m    717\u001b[39m \u001b[38;5;28;01mreturn\u001b[39;00m wrap_df(pydf)\n",
      "\u001b[31mComputeError\u001b[39m: could not parse `Not Applicable` as dtype `i64` at column 'Model_Year' (column number 6)\n\nThe current offset in the file is 1947087 bytes.\n\nYou might want to try:\n- increasing `infer_schema_length` (e.g. `infer_schema_length=10000`),\n- specifying correct dtype with the `schema_overrides` argument\n- setting `ignore_errors` to `True`,\n- adding `Not Applicable` to the `null_values` list.\n\nOriginal error: ```remaining bytes non-empty```"
     ]
    }
   ],
   "source": [
    "fleet = pl.read_csv(\"../data/ca_state_fleet/california-state-fleet-2015-2023.csv\", encoding = \"utf8-lossy\", null_values = [\"Null\"])"
   ]
  },
  {
   "cell_type": "code",
   "execution_count": 7,
   "id": "b8b7d294-d6ea-4409-bb21-60473f6d8ef0",
   "metadata": {},
   "outputs": [
    {
     "name": "stdout",
     "output_type": "stream",
     "text": [
      "Help on function read_csv in module polars.io.csv.functions:\n",
      "\n",
      "read_csv(\n",
      "    source: 'str | Path | IO[str] | IO[bytes] | bytes',\n",
      "    *,\n",
      "    has_header: 'bool' = True,\n",
      "    columns: 'Sequence[int] | Sequence[str] | None' = None,\n",
      "    new_columns: 'Sequence[str] | None' = None,\n",
      "    separator: 'str' = ',',\n",
      "    comment_prefix: 'str | None' = None,\n",
      "    quote_char: 'str | None' = '\"',\n",
      "    skip_rows: 'int' = 0,\n",
      "    skip_lines: 'int' = 0,\n",
      "    schema: 'SchemaDict | None' = None,\n",
      "    schema_overrides: 'Mapping[str, PolarsDataType] | Sequence[PolarsDataType] | None' = None,\n",
      "    null_values: 'str | Sequence[str] | dict[str, str] | None' = None,\n",
      "    missing_utf8_is_empty_string: 'bool' = False,\n",
      "    ignore_errors: 'bool' = False,\n",
      "    try_parse_dates: 'bool' = False,\n",
      "    n_threads: 'int | None' = None,\n",
      "    infer_schema: 'bool' = True,\n",
      "    infer_schema_length: 'int | None' = 100,\n",
      "    batch_size: 'int' = 8192,\n",
      "    n_rows: 'int | None' = None,\n",
      "    encoding: 'CsvEncoding | str' = 'utf8',\n",
      "    low_memory: 'bool' = False,\n",
      "    rechunk: 'bool' = False,\n",
      "    use_pyarrow: 'bool' = False,\n",
      "    storage_options: 'dict[str, Any] | None' = None,\n",
      "    skip_rows_after_header: 'int' = 0,\n",
      "    row_index_name: 'str | None' = None,\n",
      "    row_index_offset: 'int' = 0,\n",
      "    sample_size: 'int' = 1024,\n",
      "    eol_char: 'str' = '\\n',\n",
      "    raise_if_empty: 'bool' = True,\n",
      "    truncate_ragged_lines: 'bool' = False,\n",
      "    decimal_comma: 'bool' = False,\n",
      "    glob: 'bool' = True\n",
      ") -> 'DataFrame'\n",
      "    Read a CSV file into a DataFrame.\n",
      "\n",
      "    Parameters\n",
      "    ----------\n",
      "    source\n",
      "        Path to a file or a file-like object (by \"file-like object\" we refer to objects\n",
      "        that have a `read()` method, such as a file handler like the builtin `open`\n",
      "        function, or a `BytesIO` instance). If `fsspec` is installed, it will be used\n",
      "        to open remote files. For file-like objects, the stream position may not be\n",
      "        updated accordingly after reading.\n",
      "    has_header\n",
      "        Indicate if the first row of the dataset is a header or not. If set to False,\n",
      "        column names will be autogenerated in the following format: `column_x`, with\n",
      "        `x` being an enumeration over every column in the dataset, starting at 1.\n",
      "    columns\n",
      "        Columns to select. Accepts a list of column indices (starting\n",
      "        at zero) or a list of column names.\n",
      "    new_columns\n",
      "        Rename columns right after parsing the CSV file. If the given\n",
      "        list is shorter than the width of the DataFrame the remaining\n",
      "        columns will have their original name.\n",
      "    separator\n",
      "        Single byte character to use as separator in the file.\n",
      "    comment_prefix\n",
      "        A string used to indicate the start of a comment line. Comment lines are skipped\n",
      "        during parsing. Common examples of comment prefixes are `#` and `//`.\n",
      "    quote_char\n",
      "        Single byte character used for csv quoting, default = `\"`.\n",
      "        Set to None to turn off special handling and escaping of quotes.\n",
      "    skip_rows\n",
      "        Start reading after ``skip_rows`` rows. The header will be parsed at this\n",
      "        offset. Note that we respect CSV escaping/comments when skipping rows.\n",
      "        If you want to skip by newline char only, use `skip_lines`.\n",
      "    skip_lines\n",
      "        Start reading after `skip_lines` lines. The header will be parsed at this\n",
      "        offset. Note that CSV escaping will not be respected when skipping lines.\n",
      "        If you want to skip valid CSV rows, use ``skip_rows``.\n",
      "    schema\n",
      "        Provide the schema. This means that polars doesn't do schema inference.\n",
      "        This argument expects the complete schema, whereas `schema_overrides` can be\n",
      "        used to partially overwrite a schema. Note that the order of the columns in\n",
      "        the provided `schema` must match the order of the columns in the CSV being read.\n",
      "    schema_overrides\n",
      "        Overwrite dtypes for specific or all columns during schema inference.\n",
      "    null_values\n",
      "        Values to interpret as null values. You can provide a:\n",
      "\n",
      "        - `str`: All values equal to this string will be null.\n",
      "        - `List[str]`: All values equal to any string in this list will be null.\n",
      "        - `Dict[str, str]`: A dictionary that maps column name to a\n",
      "          null value string.\n",
      "\n",
      "    missing_utf8_is_empty_string\n",
      "        By default a missing value is considered to be null; if you would prefer missing\n",
      "        utf8 values to be treated as the empty string you can set this param True.\n",
      "    ignore_errors\n",
      "        Try to keep reading lines if some lines yield errors.\n",
      "        Before using this option, try to increase the number of lines used for schema\n",
      "        inference with e.g `infer_schema_length=10000` or override automatic dtype\n",
      "        inference for specific columns with the `schema_overrides` option or use\n",
      "        `infer_schema=False` to read all columns as `pl.String` to check which\n",
      "        values might cause an issue.\n",
      "    try_parse_dates\n",
      "        Try to automatically parse dates. Most ISO8601-like formats can\n",
      "        be inferred, as well as a handful of others. If this does not succeed,\n",
      "        the column remains of data type `pl.String`.\n",
      "        If `use_pyarrow=True`, dates will always be parsed.\n",
      "    n_threads\n",
      "        Number of threads to use in csv parsing.\n",
      "        Defaults to the number of physical cpu's of your system.\n",
      "    infer_schema\n",
      "        When `True`, the schema is inferred from the data using the first\n",
      "        `infer_schema_length` rows.\n",
      "        When `False`, the schema is not inferred and will be `pl.String` if not\n",
      "        specified in `schema` or `schema_overrides`.\n",
      "    infer_schema_length\n",
      "        The maximum number of rows to scan for schema inference.\n",
      "        If set to `None`, the full data may be scanned *(this is slow)*.\n",
      "        Set `infer_schema=False` to read all columns as `pl.String`.\n",
      "    batch_size\n",
      "        Number of lines to read into the buffer at once.\n",
      "        Modify this to change performance.\n",
      "    n_rows\n",
      "        Stop reading from CSV file after reading `n_rows`.\n",
      "        During multi-threaded parsing, an upper bound of `n_rows`\n",
      "        rows cannot be guaranteed.\n",
      "    encoding : {'utf8', 'utf8-lossy', 'windows-1252', 'windows-1252-lossy', ...}\n",
      "        Lossy means that invalid utf8 values are replaced with `�`\n",
      "        characters. When using other encodings than `utf8` or\n",
      "        `utf8-lossy`, the input is first decoded in memory with\n",
      "        python. Defaults to `utf8`.\n",
      "    low_memory\n",
      "        Reduce memory pressure at the expense of performance.\n",
      "    rechunk\n",
      "        Make sure that all columns are contiguous in memory by\n",
      "        aggregating the chunks into a single array.\n",
      "    use_pyarrow\n",
      "        Try to use pyarrow's native CSV parser. This will always\n",
      "        parse dates, even if `try_parse_dates=False`.\n",
      "        This is not always possible. The set of arguments given to\n",
      "        this function determines if it is possible to use pyarrow's\n",
      "        native parser. Note that pyarrow and polars may have a\n",
      "        different strategy regarding type inference.\n",
      "    storage_options\n",
      "        Extra options that make sense for `fsspec.open()` or a\n",
      "        particular storage connection.\n",
      "        e.g. host, port, username, password, etc.\n",
      "    skip_rows_after_header\n",
      "        Skip this number of rows when the header is parsed.\n",
      "    row_index_name\n",
      "        Insert a row index column with the given name into the DataFrame as the first\n",
      "        column. If set to `None` (default), no row index column is created.\n",
      "    row_index_offset\n",
      "        Start the row index at this offset. Cannot be negative.\n",
      "        Only used if `row_index_name` is set.\n",
      "    sample_size\n",
      "        Set the sample size. This is used to sample statistics to estimate the\n",
      "        allocation needed.\n",
      "\n",
      "        .. deprecated:: 1.10.0\n",
      "            Is a no-op.\n",
      "    eol_char\n",
      "        Single byte end of line character (default: `\\n`). When encountering a file\n",
      "        with windows line endings (`\\r\\n`), one can go with the default `\\n`. The extra\n",
      "        `\\r` will be removed when processed.\n",
      "    raise_if_empty\n",
      "        When there is no data in the source, `NoDataError` is raised. If this parameter\n",
      "        is set to False, an empty DataFrame (with no columns) is returned instead.\n",
      "    truncate_ragged_lines\n",
      "        Truncate lines that are longer than the schema.\n",
      "    decimal_comma\n",
      "        Parse floats using a comma as the decimal separator instead of a period.\n",
      "    glob\n",
      "        Expand path given via globbing rules.\n",
      "\n",
      "    Returns\n",
      "    -------\n",
      "    DataFrame\n",
      "\n",
      "    See Also\n",
      "    --------\n",
      "    scan_csv : Lazily read from a CSV file or multiple files via glob patterns.\n",
      "\n",
      "    Notes\n",
      "    -----\n",
      "    If the schema is inferred incorrectly (e.g. as `pl.Int64` instead of `pl.Float64`),\n",
      "    try to increase the number of lines used to infer the schema with\n",
      "    `infer_schema_length` or override the inferred dtype for those columns with\n",
      "    `schema_overrides`.\n",
      "\n",
      "    This operation defaults to a `rechunk` operation at the end, meaning that all data\n",
      "    will be stored continuously in memory. Set `rechunk=False` if you are benchmarking\n",
      "    the csv-reader. A `rechunk` is an expensive operation.\n",
      "\n",
      "    Examples\n",
      "    --------\n",
      "    >>> pl.read_csv(\"data.csv\", separator=\"|\")  # doctest: +SKIP\n",
      "\n",
      "    Demonstrate use against a BytesIO object, parsing string dates.\n",
      "\n",
      "    >>> from io import BytesIO\n",
      "    >>> data = BytesIO(\n",
      "    ...     b\"ID,Name,Birthday\\n\"\n",
      "    ...     b\"1,Alice,1995-07-12\\n\"\n",
      "    ...     b\"2,Bob,1990-09-20\\n\"\n",
      "    ...     b\"3,Charlie,2002-03-08\\n\"\n",
      "    ... )\n",
      "    >>> pl.read_csv(data, try_parse_dates=True)\n",
      "    shape: (3, 3)\n",
      "    ┌─────┬─────────┬────────────┐\n",
      "    │ ID  ┆ Name    ┆ Birthday   │\n",
      "    │ --- ┆ ---     ┆ ---        │\n",
      "    │ i64 ┆ str     ┆ date       │\n",
      "    ╞═════╪═════════╪════════════╡\n",
      "    │ 1   ┆ Alice   ┆ 1995-07-12 │\n",
      "    │ 2   ┆ Bob     ┆ 1990-09-20 │\n",
      "    │ 3   ┆ Charlie ┆ 2002-03-08 │\n",
      "    └─────┴─────────┴────────────┘\n",
      "\n"
     ]
    }
   ],
   "source": [
    "help(pl.read_csv)"
   ]
  },
  {
   "cell_type": "code",
   "execution_count": 10,
   "id": "a1ad8d23-2da7-4a81-b37b-a6c85e100119",
   "metadata": {},
   "outputs": [
    {
     "data": {
      "text/html": [
       "<div><style>\n",
       ".dataframe > thead > tr,\n",
       ".dataframe > tbody > tr {\n",
       "  text-align: right;\n",
       "  white-space: pre-wrap;\n",
       "}\n",
       "</style>\n",
       "<small>shape: (5, 43)</small><table border=\"1\" class=\"dataframe\"><thead><tr><th>year</th><th>site_name</th><th>site_name_2013_2018</th><th>site_name_1988_2001</th><th>site_abbr</th><th>region_3</th><th>region_4</th><th>event</th><th>bp_min</th><th>bp_max</th><th>fl_min</th><th>fl_max</th><th>total_nests</th><th>nonpred_eggs</th><th>nonpred_chicks</th><th>nonpred_fl</th><th>nonpred_ad</th><th>pred_control</th><th>pred_eggs</th><th>pred_chicks</th><th>pred_fl</th><th>pred_ad</th><th>pred_pefa</th><th>pred_coy_fox</th><th>pred_meso</th><th>pred_owlspp</th><th>pred_corvid</th><th>pred_other_raptor</th><th>pred_other_avian</th><th>pred_misc</th><th>total_pefa</th><th>total_coy_fox</th><th>total_meso</th><th>total_owlspp</th><th>total_corvid</th><th>total_other_raptor</th><th>total_other_avian</th><th>total_misc</th><th>first_observed</th><th>last_observed</th><th>first_nest</th><th>first_chick</th><th>first_fledge</th></tr><tr><td>i64</td><td>str</td><td>str</td><td>str</td><td>str</td><td>str</td><td>str</td><td>str</td><td>f64</td><td>f64</td><td>i64</td><td>i64</td><td>i64</td><td>i64</td><td>i64</td><td>i64</td><td>i64</td><td>str</td><td>i64</td><td>i64</td><td>i64</td><td>i64</td><td>str</td><td>str</td><td>str</td><td>str</td><td>str</td><td>str</td><td>str</td><td>str</td><td>i64</td><td>i64</td><td>i64</td><td>i64</td><td>i64</td><td>i64</td><td>i64</td><td>i64</td><td>str</td><td>str</td><td>str</td><td>str</td><td>str</td></tr></thead><tbody><tr><td>2000</td><td>&quot;PITTSBURG POWER PLANT&quot;</td><td>&quot;Pittsburg Power Plant&quot;</td><td>&quot;NA_2013_2018 POLYGON&quot;</td><td>&quot;PITT_POWER&quot;</td><td>&quot;S.F._BAY&quot;</td><td>&quot;S.F._BAY&quot;</td><td>&quot;LA_NINA&quot;</td><td>15.0</td><td>15.0</td><td>16</td><td>18</td><td>15</td><td>3</td><td>0</td><td>0</td><td>0</td><td>null</td><td>4</td><td>2</td><td>0</td><td>0</td><td>&quot;N&quot;</td><td>&quot;N&quot;</td><td>&quot;N&quot;</td><td>&quot;N&quot;</td><td>&quot;Y&quot;</td><td>&quot;Y&quot;</td><td>&quot;N&quot;</td><td>&quot;N&quot;</td><td>0</td><td>0</td><td>0</td><td>0</td><td>4</td><td>2</td><td>0</td><td>0</td><td>&quot;2000-05-11&quot;</td><td>&quot;2000-08-05&quot;</td><td>&quot;2000-05-26&quot;</td><td>&quot;2000-06-18&quot;</td><td>&quot;2000-07-08&quot;</td></tr><tr><td>2000</td><td>&quot;ALBANY CENTRAL AVE&quot;</td><td>&quot;NA_NO POLYGON&quot;</td><td>&quot;Albany Central Avenue&quot;</td><td>&quot;AL_CENTAVE&quot;</td><td>&quot;S.F._BAY&quot;</td><td>&quot;S.F._BAY&quot;</td><td>&quot;LA_NINA&quot;</td><td>6.0</td><td>12.0</td><td>1</td><td>1</td><td>20</td><td>null</td><td>null</td><td>null</td><td>null</td><td>null</td><td>null</td><td>null</td><td>null</td><td>null</td><td>null</td><td>null</td><td>null</td><td>null</td><td>null</td><td>null</td><td>null</td><td>null</td><td>null</td><td>null</td><td>null</td><td>null</td><td>null</td><td>null</td><td>null</td><td>null</td><td>null</td><td>null</td><td>null</td><td>null</td><td>null</td></tr><tr><td>2000</td><td>&quot;ALAMEDA POINT&quot;</td><td>&quot;Alameda Point&quot;</td><td>&quot;NA_2013_2018 POLYGON&quot;</td><td>&quot;ALAM_PT&quot;</td><td>&quot;S.F._BAY&quot;</td><td>&quot;S.F._BAY&quot;</td><td>&quot;LA_NINA&quot;</td><td>282.0</td><td>301.0</td><td>200</td><td>230</td><td>312</td><td>124</td><td>81</td><td>2</td><td>1</td><td>null</td><td>17</td><td>0</td><td>0</td><td>0</td><td>&quot;N&quot;</td><td>&quot;N&quot;</td><td>&quot;N&quot;</td><td>&quot;N&quot;</td><td>&quot;N&quot;</td><td>&quot;Y&quot;</td><td>&quot;Y&quot;</td><td>&quot;N&quot;</td><td>0</td><td>0</td><td>0</td><td>0</td><td>0</td><td>6</td><td>11</td><td>0</td><td>&quot;2000-05-01&quot;</td><td>&quot;2000-08-19&quot;</td><td>&quot;2000-05-16&quot;</td><td>&quot;2000-06-07&quot;</td><td>&quot;2000-06-30&quot;</td></tr><tr><td>2000</td><td>&quot;KETTLEMAN CITY&quot;</td><td>&quot;Kettleman&quot;</td><td>&quot;NA_2013_2018 POLYGON&quot;</td><td>&quot;KET_CTY&quot;</td><td>&quot;KINGS&quot;</td><td>&quot;KINGS&quot;</td><td>&quot;LA_NINA&quot;</td><td>2.0</td><td>3.0</td><td>1</td><td>2</td><td>3</td><td>null</td><td>3</td><td>1</td><td>6</td><td>null</td><td>null</td><td>null</td><td>null</td><td>null</td><td>null</td><td>null</td><td>null</td><td>null</td><td>null</td><td>null</td><td>null</td><td>null</td><td>null</td><td>null</td><td>null</td><td>null</td><td>null</td><td>null</td><td>null</td><td>null</td><td>&quot;2000-06-10&quot;</td><td>&quot;2000-09-24&quot;</td><td>&quot;2000-06-17&quot;</td><td>&quot;2000-07-22&quot;</td><td>&quot;2000-08-06&quot;</td></tr><tr><td>2000</td><td>&quot;OCEANO DUNES STATE VEHICULAR R…</td><td>&quot;Oceano Dunes State Vehicular R…</td><td>&quot;NA_2013_2018 POLYGON&quot;</td><td>&quot;OCEANO_DUNES&quot;</td><td>&quot;CENTRAL&quot;</td><td>&quot;CENTRAL&quot;</td><td>&quot;LA_NINA&quot;</td><td>4.0</td><td>5.0</td><td>4</td><td>4</td><td>5</td><td>2</td><td>0</td><td>0</td><td>0</td><td>null</td><td>0</td><td>4</td><td>0</td><td>0</td><td>&quot;N&quot;</td><td>&quot;N&quot;</td><td>&quot;N&quot;</td><td>&quot;N&quot;</td><td>&quot;N&quot;</td><td>&quot;N&quot;</td><td>&quot;Y&quot;</td><td>&quot;N&quot;</td><td>0</td><td>0</td><td>0</td><td>0</td><td>0</td><td>0</td><td>4</td><td>0</td><td>&quot;2000-05-04&quot;</td><td>&quot;2000-08-30&quot;</td><td>&quot;2000-05-28&quot;</td><td>&quot;2000-06-20&quot;</td><td>&quot;2000-07-13&quot;</td></tr></tbody></table></div>"
      ],
      "text/plain": [
       "shape: (5, 43)\n",
       "┌──────┬────────────┬────────────┬────────────┬───┬────────────┬───────────┬───────────┬───────────┐\n",
       "│ year ┆ site_name  ┆ site_name_ ┆ site_name_ ┆ … ┆ last_obser ┆ first_nes ┆ first_chi ┆ first_fle │\n",
       "│ ---  ┆ ---        ┆ 2013_2018  ┆ 1988_2001  ┆   ┆ ved        ┆ t         ┆ ck        ┆ dge       │\n",
       "│ i64  ┆ str        ┆ ---        ┆ ---        ┆   ┆ ---        ┆ ---       ┆ ---       ┆ ---       │\n",
       "│      ┆            ┆ str        ┆ str        ┆   ┆ str        ┆ str       ┆ str       ┆ str       │\n",
       "╞══════╪════════════╪════════════╪════════════╪═══╪════════════╪═══════════╪═══════════╪═══════════╡\n",
       "│ 2000 ┆ PITTSBURG  ┆ Pittsburg  ┆ NA_2013_20 ┆ … ┆ 2000-08-05 ┆ 2000-05-2 ┆ 2000-06-1 ┆ 2000-07-0 │\n",
       "│      ┆ POWER      ┆ Power      ┆ 18 POLYGON ┆   ┆            ┆ 6         ┆ 8         ┆ 8         │\n",
       "│      ┆ PLANT      ┆ Plant      ┆            ┆   ┆            ┆           ┆           ┆           │\n",
       "│ 2000 ┆ ALBANY     ┆ NA_NO      ┆ Albany     ┆ … ┆ null       ┆ null      ┆ null      ┆ null      │\n",
       "│      ┆ CENTRAL    ┆ POLYGON    ┆ Central    ┆   ┆            ┆           ┆           ┆           │\n",
       "│      ┆ AVE        ┆            ┆ Avenue     ┆   ┆            ┆           ┆           ┆           │\n",
       "│ 2000 ┆ ALAMEDA    ┆ Alameda    ┆ NA_2013_20 ┆ … ┆ 2000-08-19 ┆ 2000-05-1 ┆ 2000-06-0 ┆ 2000-06-3 │\n",
       "│      ┆ POINT      ┆ Point      ┆ 18 POLYGON ┆   ┆            ┆ 6         ┆ 7         ┆ 0         │\n",
       "│ 2000 ┆ KETTLEMAN  ┆ Kettleman  ┆ NA_2013_20 ┆ … ┆ 2000-09-24 ┆ 2000-06-1 ┆ 2000-07-2 ┆ 2000-08-0 │\n",
       "│      ┆ CITY       ┆            ┆ 18 POLYGON ┆   ┆            ┆ 7         ┆ 2         ┆ 6         │\n",
       "│ 2000 ┆ OCEANO     ┆ Oceano     ┆ NA_2013_20 ┆ … ┆ 2000-08-30 ┆ 2000-05-2 ┆ 2000-06-2 ┆ 2000-07-1 │\n",
       "│      ┆ DUNES      ┆ Dunes      ┆ 18 POLYGON ┆   ┆            ┆ 8         ┆ 0         ┆ 3         │\n",
       "│      ┆ STATE      ┆ State      ┆            ┆   ┆            ┆           ┆           ┆           │\n",
       "│      ┆ VEHICULAR  ┆ Vehicular  ┆            ┆   ┆            ┆           ┆           ┆           │\n",
       "│      ┆ R…         ┆ R…         ┆            ┆   ┆            ┆           ┆           ┆           │\n",
       "└──────┴────────────┴────────────┴────────────┴───┴────────────┴───────────┴───────────┴───────────┘"
      ]
     },
     "execution_count": 10,
     "metadata": {},
     "output_type": "execute_result"
    }
   ],
   "source": [
    "terns = pl.read_csv(\"../data/2000-2023_ca_least_tern.csv\")\n",
    "terns.head()"
   ]
  },
  {
   "cell_type": "code",
   "execution_count": 15,
   "id": "14c30547-8102-42ed-9073-deb05e37aac9",
   "metadata": {},
   "outputs": [
    {
     "data": {
      "text/html": [
       "<div><style>\n",
       ".dataframe > thead > tr,\n",
       ".dataframe > tbody > tr {\n",
       "  text-align: right;\n",
       "  white-space: pre-wrap;\n",
       "}\n",
       "</style>\n",
       "<small>shape: (791, 2)</small><table border=\"1\" class=\"dataframe\"><thead><tr><th>year</th><th>total_nests</th></tr><tr><td>i64</td><td>i64</td></tr></thead><tbody><tr><td>2000</td><td>15</td></tr><tr><td>2000</td><td>20</td></tr><tr><td>2000</td><td>312</td></tr><tr><td>2000</td><td>3</td></tr><tr><td>2000</td><td>5</td></tr><tr><td>&hellip;</td><td>&hellip;</td></tr><tr><td>2023</td><td>717</td></tr><tr><td>2023</td><td>44</td></tr><tr><td>2023</td><td>59</td></tr><tr><td>2023</td><td>48</td></tr><tr><td>2023</td><td>171</td></tr></tbody></table></div>"
      ],
      "text/plain": [
       "shape: (791, 2)\n",
       "┌──────┬─────────────┐\n",
       "│ year ┆ total_nests │\n",
       "│ ---  ┆ ---         │\n",
       "│ i64  ┆ i64         │\n",
       "╞══════╪═════════════╡\n",
       "│ 2000 ┆ 15          │\n",
       "│ 2000 ┆ 20          │\n",
       "│ 2000 ┆ 312         │\n",
       "│ 2000 ┆ 3           │\n",
       "│ 2000 ┆ 5           │\n",
       "│ …    ┆ …           │\n",
       "│ 2023 ┆ 717         │\n",
       "│ 2023 ┆ 44          │\n",
       "│ 2023 ┆ 59          │\n",
       "│ 2023 ┆ 48          │\n",
       "│ 2023 ┆ 171         │\n",
       "└──────┴─────────────┘"
      ]
     },
     "execution_count": 15,
     "metadata": {},
     "output_type": "execute_result"
    }
   ],
   "source": [
    "terns.select(pl.col(\"year\", \"total_nests\"))"
   ]
  },
  {
   "cell_type": "code",
   "execution_count": 18,
   "id": "1bb0b5d3-0483-4b3e-b39f-b52229f37b0b",
   "metadata": {},
   "outputs": [
    {
     "data": {
      "text/html": [
       "<div><style>\n",
       ".dataframe > thead > tr,\n",
       ".dataframe > tbody > tr {\n",
       "  text-align: right;\n",
       "  white-space: pre-wrap;\n",
       "}\n",
       "</style>\n",
       "<small>shape: (791, 21)</small><table border=\"1\" class=\"dataframe\"><thead><tr><th>bp_min</th><th>bp_max</th><th>fl_min</th><th>fl_max</th><th>total_nests</th><th>nonpred_eggs</th><th>nonpred_chicks</th><th>nonpred_fl</th><th>nonpred_ad</th><th>pred_eggs</th><th>pred_chicks</th><th>pred_fl</th><th>pred_ad</th><th>total_pefa</th><th>total_coy_fox</th><th>total_meso</th><th>total_owlspp</th><th>total_corvid</th><th>total_other_raptor</th><th>total_other_avian</th><th>total_misc</th></tr><tr><td>f64</td><td>f64</td><td>i64</td><td>i64</td><td>i64</td><td>i64</td><td>i64</td><td>i64</td><td>i64</td><td>i64</td><td>i64</td><td>i64</td><td>i64</td><td>i64</td><td>i64</td><td>i64</td><td>i64</td><td>i64</td><td>i64</td><td>i64</td><td>i64</td></tr></thead><tbody><tr><td>15.0</td><td>15.0</td><td>16</td><td>18</td><td>15</td><td>3</td><td>0</td><td>0</td><td>0</td><td>4</td><td>2</td><td>0</td><td>0</td><td>0</td><td>0</td><td>0</td><td>0</td><td>4</td><td>2</td><td>0</td><td>0</td></tr><tr><td>6.0</td><td>12.0</td><td>1</td><td>1</td><td>20</td><td>null</td><td>null</td><td>null</td><td>null</td><td>null</td><td>null</td><td>null</td><td>null</td><td>null</td><td>null</td><td>null</td><td>null</td><td>null</td><td>null</td><td>null</td><td>null</td></tr><tr><td>282.0</td><td>301.0</td><td>200</td><td>230</td><td>312</td><td>124</td><td>81</td><td>2</td><td>1</td><td>17</td><td>0</td><td>0</td><td>0</td><td>0</td><td>0</td><td>0</td><td>0</td><td>0</td><td>6</td><td>11</td><td>0</td></tr><tr><td>2.0</td><td>3.0</td><td>1</td><td>2</td><td>3</td><td>null</td><td>3</td><td>1</td><td>6</td><td>null</td><td>null</td><td>null</td><td>null</td><td>null</td><td>null</td><td>null</td><td>null</td><td>null</td><td>null</td><td>null</td><td>null</td></tr><tr><td>4.0</td><td>5.0</td><td>4</td><td>4</td><td>5</td><td>2</td><td>0</td><td>0</td><td>0</td><td>0</td><td>4</td><td>0</td><td>0</td><td>0</td><td>0</td><td>0</td><td>0</td><td>0</td><td>0</td><td>4</td><td>0</td></tr><tr><td>&hellip;</td><td>&hellip;</td><td>&hellip;</td><td>&hellip;</td><td>&hellip;</td><td>&hellip;</td><td>&hellip;</td><td>&hellip;</td><td>&hellip;</td><td>&hellip;</td><td>&hellip;</td><td>&hellip;</td><td>&hellip;</td><td>&hellip;</td><td>&hellip;</td><td>&hellip;</td><td>&hellip;</td><td>&hellip;</td><td>&hellip;</td><td>&hellip;</td><td>&hellip;</td></tr><tr><td>596.0</td><td>644.0</td><td>90</td><td>128</td><td>717</td><td>329</td><td>185</td><td>6</td><td>6</td><td>null</td><td>null</td><td>null</td><td>null</td><td>null</td><td>null</td><td>null</td><td>null</td><td>null</td><td>null</td><td>null</td><td>null</td></tr><tr><td>29.0</td><td>38.0</td><td>4</td><td>4</td><td>44</td><td>25</td><td>2</td><td>0</td><td>0</td><td>null</td><td>null</td><td>null</td><td>null</td><td>null</td><td>null</td><td>null</td><td>null</td><td>null</td><td>null</td><td>null</td><td>null</td></tr><tr><td>47.0</td><td>54.0</td><td>5</td><td>6</td><td>59</td><td>32</td><td>1</td><td>0</td><td>0</td><td>null</td><td>null</td><td>null</td><td>null</td><td>null</td><td>null</td><td>null</td><td>null</td><td>null</td><td>null</td><td>null</td><td>null</td></tr><tr><td>38.0</td><td>41.0</td><td>7</td><td>7</td><td>48</td><td>11</td><td>2</td><td>0</td><td>0</td><td>null</td><td>null</td><td>null</td><td>null</td><td>null</td><td>null</td><td>null</td><td>null</td><td>null</td><td>null</td><td>null</td><td>null</td></tr><tr><td>144.0</td><td>165.0</td><td>35</td><td>35</td><td>171</td><td>65</td><td>44</td><td>1</td><td>1</td><td>null</td><td>null</td><td>null</td><td>null</td><td>null</td><td>null</td><td>null</td><td>null</td><td>null</td><td>null</td><td>null</td><td>null</td></tr></tbody></table></div>"
      ],
      "text/plain": [
       "shape: (791, 21)\n",
       "┌────────┬────────┬────────┬────────┬───┬──────────────┬───────────────┬──────────────┬────────────┐\n",
       "│ bp_min ┆ bp_max ┆ fl_min ┆ fl_max ┆ … ┆ total_corvid ┆ total_other_r ┆ total_other_ ┆ total_misc │\n",
       "│ ---    ┆ ---    ┆ ---    ┆ ---    ┆   ┆ ---          ┆ aptor         ┆ avian        ┆ ---        │\n",
       "│ f64    ┆ f64    ┆ i64    ┆ i64    ┆   ┆ i64          ┆ ---           ┆ ---          ┆ i64        │\n",
       "│        ┆        ┆        ┆        ┆   ┆              ┆ i64           ┆ i64          ┆            │\n",
       "╞════════╪════════╪════════╪════════╪═══╪══════════════╪═══════════════╪══════════════╪════════════╡\n",
       "│ 15.0   ┆ 15.0   ┆ 16     ┆ 18     ┆ … ┆ 4            ┆ 2             ┆ 0            ┆ 0          │\n",
       "│ 6.0    ┆ 12.0   ┆ 1      ┆ 1      ┆ … ┆ null         ┆ null          ┆ null         ┆ null       │\n",
       "│ 282.0  ┆ 301.0  ┆ 200    ┆ 230    ┆ … ┆ 0            ┆ 6             ┆ 11           ┆ 0          │\n",
       "│ 2.0    ┆ 3.0    ┆ 1      ┆ 2      ┆ … ┆ null         ┆ null          ┆ null         ┆ null       │\n",
       "│ 4.0    ┆ 5.0    ┆ 4      ┆ 4      ┆ … ┆ 0            ┆ 0             ┆ 4            ┆ 0          │\n",
       "│ …      ┆ …      ┆ …      ┆ …      ┆ … ┆ …            ┆ …             ┆ …            ┆ …          │\n",
       "│ 596.0  ┆ 644.0  ┆ 90     ┆ 128    ┆ … ┆ null         ┆ null          ┆ null         ┆ null       │\n",
       "│ 29.0   ┆ 38.0   ┆ 4      ┆ 4      ┆ … ┆ null         ┆ null          ┆ null         ┆ null       │\n",
       "│ 47.0   ┆ 54.0   ┆ 5      ┆ 6      ┆ … ┆ null         ┆ null          ┆ null         ┆ null       │\n",
       "│ 38.0   ┆ 41.0   ┆ 7      ┆ 7      ┆ … ┆ null         ┆ null          ┆ null         ┆ null       │\n",
       "│ 144.0  ┆ 165.0  ┆ 35     ┆ 35     ┆ … ┆ null         ┆ null          ┆ null         ┆ null       │\n",
       "└────────┴────────┴────────┴────────┴───┴──────────────┴───────────────┴──────────────┴────────────┘"
      ]
     },
     "execution_count": 18,
     "metadata": {},
     "output_type": "execute_result"
    }
   ],
   "source": [
    "terns.select(pl.col(pl.Float64, pl.Int64).exclude(\"year\"))"
   ]
  },
  {
   "cell_type": "code",
   "execution_count": 21,
   "id": "513c920e-3d38-401d-8163-605d2738627c",
   "metadata": {},
   "outputs": [
    {
     "data": {
      "text/html": [
       "<div><style>\n",
       ".dataframe > thead > tr,\n",
       ".dataframe > tbody > tr {\n",
       "  text-align: right;\n",
       "  white-space: pre-wrap;\n",
       "}\n",
       "</style>\n",
       "<small>shape: (791, 22)</small><table border=\"1\" class=\"dataframe\"><thead><tr><th>region_3</th><th>region_4</th><th>year</th><th>fl_min</th><th>fl_max</th><th>total_nests</th><th>nonpred_eggs</th><th>nonpred_chicks</th><th>nonpred_fl</th><th>nonpred_ad</th><th>pred_eggs</th><th>pred_chicks</th><th>pred_fl</th><th>pred_ad</th><th>total_pefa</th><th>total_coy_fox</th><th>total_meso</th><th>total_owlspp</th><th>total_corvid</th><th>total_other_raptor</th><th>total_other_avian</th><th>total_misc</th></tr><tr><td>str</td><td>str</td><td>i64</td><td>i64</td><td>i64</td><td>i64</td><td>i64</td><td>i64</td><td>i64</td><td>i64</td><td>i64</td><td>i64</td><td>i64</td><td>i64</td><td>i64</td><td>i64</td><td>i64</td><td>i64</td><td>i64</td><td>i64</td><td>i64</td><td>i64</td></tr></thead><tbody><tr><td>&quot;S.F._BAY&quot;</td><td>&quot;S.F._BAY&quot;</td><td>2000</td><td>16</td><td>18</td><td>15</td><td>3</td><td>0</td><td>0</td><td>0</td><td>4</td><td>2</td><td>0</td><td>0</td><td>0</td><td>0</td><td>0</td><td>0</td><td>4</td><td>2</td><td>0</td><td>0</td></tr><tr><td>&quot;S.F._BAY&quot;</td><td>&quot;S.F._BAY&quot;</td><td>2000</td><td>1</td><td>1</td><td>20</td><td>null</td><td>null</td><td>null</td><td>null</td><td>null</td><td>null</td><td>null</td><td>null</td><td>null</td><td>null</td><td>null</td><td>null</td><td>null</td><td>null</td><td>null</td><td>null</td></tr><tr><td>&quot;S.F._BAY&quot;</td><td>&quot;S.F._BAY&quot;</td><td>2000</td><td>200</td><td>230</td><td>312</td><td>124</td><td>81</td><td>2</td><td>1</td><td>17</td><td>0</td><td>0</td><td>0</td><td>0</td><td>0</td><td>0</td><td>0</td><td>0</td><td>6</td><td>11</td><td>0</td></tr><tr><td>&quot;KINGS&quot;</td><td>&quot;KINGS&quot;</td><td>2000</td><td>1</td><td>2</td><td>3</td><td>null</td><td>3</td><td>1</td><td>6</td><td>null</td><td>null</td><td>null</td><td>null</td><td>null</td><td>null</td><td>null</td><td>null</td><td>null</td><td>null</td><td>null</td><td>null</td></tr><tr><td>&quot;CENTRAL&quot;</td><td>&quot;CENTRAL&quot;</td><td>2000</td><td>4</td><td>4</td><td>5</td><td>2</td><td>0</td><td>0</td><td>0</td><td>0</td><td>4</td><td>0</td><td>0</td><td>0</td><td>0</td><td>0</td><td>0</td><td>0</td><td>0</td><td>4</td><td>0</td></tr><tr><td>&hellip;</td><td>&hellip;</td><td>&hellip;</td><td>&hellip;</td><td>&hellip;</td><td>&hellip;</td><td>&hellip;</td><td>&hellip;</td><td>&hellip;</td><td>&hellip;</td><td>&hellip;</td><td>&hellip;</td><td>&hellip;</td><td>&hellip;</td><td>&hellip;</td><td>&hellip;</td><td>&hellip;</td><td>&hellip;</td><td>&hellip;</td><td>&hellip;</td><td>&hellip;</td><td>&hellip;</td></tr><tr><td>&quot;SOUTHERN&quot;</td><td>&quot;SOUTHERN&quot;</td><td>2023</td><td>90</td><td>128</td><td>717</td><td>329</td><td>185</td><td>6</td><td>6</td><td>null</td><td>null</td><td>null</td><td>null</td><td>null</td><td>null</td><td>null</td><td>null</td><td>null</td><td>null</td><td>null</td><td>null</td></tr><tr><td>&quot;SOUTHERN&quot;</td><td>&quot;SOUTHERN&quot;</td><td>2023</td><td>4</td><td>4</td><td>44</td><td>25</td><td>2</td><td>0</td><td>0</td><td>null</td><td>null</td><td>null</td><td>null</td><td>null</td><td>null</td><td>null</td><td>null</td><td>null</td><td>null</td><td>null</td><td>null</td></tr><tr><td>&quot;SOUTHERN&quot;</td><td>&quot;SOUTHERN&quot;</td><td>2023</td><td>5</td><td>6</td><td>59</td><td>32</td><td>1</td><td>0</td><td>0</td><td>null</td><td>null</td><td>null</td><td>null</td><td>null</td><td>null</td><td>null</td><td>null</td><td>null</td><td>null</td><td>null</td><td>null</td></tr><tr><td>&quot;SOUTHERN&quot;</td><td>&quot;SOUTHERN&quot;</td><td>2023</td><td>7</td><td>7</td><td>48</td><td>11</td><td>2</td><td>0</td><td>0</td><td>null</td><td>null</td><td>null</td><td>null</td><td>null</td><td>null</td><td>null</td><td>null</td><td>null</td><td>null</td><td>null</td><td>null</td></tr><tr><td>&quot;SOUTHERN&quot;</td><td>&quot;SOUTHERN&quot;</td><td>2023</td><td>35</td><td>35</td><td>171</td><td>65</td><td>44</td><td>1</td><td>1</td><td>null</td><td>null</td><td>null</td><td>null</td><td>null</td><td>null</td><td>null</td><td>null</td><td>null</td><td>null</td><td>null</td><td>null</td></tr></tbody></table></div>"
      ],
      "text/plain": [
       "shape: (791, 22)\n",
       "┌──────────┬──────────┬──────┬────────┬───┬──────────────┬──────────────┬─────────────┬────────────┐\n",
       "│ region_3 ┆ region_4 ┆ year ┆ fl_min ┆ … ┆ total_corvid ┆ total_other_ ┆ total_other ┆ total_misc │\n",
       "│ ---      ┆ ---      ┆ ---  ┆ ---    ┆   ┆ ---          ┆ raptor       ┆ _avian      ┆ ---        │\n",
       "│ str      ┆ str      ┆ i64  ┆ i64    ┆   ┆ i64          ┆ ---          ┆ ---         ┆ i64        │\n",
       "│          ┆          ┆      ┆        ┆   ┆              ┆ i64          ┆ i64         ┆            │\n",
       "╞══════════╪══════════╪══════╪════════╪═══╪══════════════╪══════════════╪═════════════╪════════════╡\n",
       "│ S.F._BAY ┆ S.F._BAY ┆ 2000 ┆ 16     ┆ … ┆ 4            ┆ 2            ┆ 0           ┆ 0          │\n",
       "│ S.F._BAY ┆ S.F._BAY ┆ 2000 ┆ 1      ┆ … ┆ null         ┆ null         ┆ null        ┆ null       │\n",
       "│ S.F._BAY ┆ S.F._BAY ┆ 2000 ┆ 200    ┆ … ┆ 0            ┆ 6            ┆ 11          ┆ 0          │\n",
       "│ KINGS    ┆ KINGS    ┆ 2000 ┆ 1      ┆ … ┆ null         ┆ null         ┆ null        ┆ null       │\n",
       "│ CENTRAL  ┆ CENTRAL  ┆ 2000 ┆ 4      ┆ … ┆ 0            ┆ 0            ┆ 4           ┆ 0          │\n",
       "│ …        ┆ …        ┆ …    ┆ …      ┆ … ┆ …            ┆ …            ┆ …           ┆ …          │\n",
       "│ SOUTHERN ┆ SOUTHERN ┆ 2023 ┆ 90     ┆ … ┆ null         ┆ null         ┆ null        ┆ null       │\n",
       "│ SOUTHERN ┆ SOUTHERN ┆ 2023 ┆ 4      ┆ … ┆ null         ┆ null         ┆ null        ┆ null       │\n",
       "│ SOUTHERN ┆ SOUTHERN ┆ 2023 ┆ 5      ┆ … ┆ null         ┆ null         ┆ null        ┆ null       │\n",
       "│ SOUTHERN ┆ SOUTHERN ┆ 2023 ┆ 7      ┆ … ┆ null         ┆ null         ┆ null        ┆ null       │\n",
       "│ SOUTHERN ┆ SOUTHERN ┆ 2023 ┆ 35     ┆ … ┆ null         ┆ null         ┆ null        ┆ null       │\n",
       "└──────────┴──────────┴──────┴────────┴───┴──────────────┴──────────────┴─────────────┴────────────┘"
      ]
     },
     "execution_count": 21,
     "metadata": {},
     "output_type": "execute_result"
    }
   ],
   "source": [
    "terns.select(pl.col(\"^region_.*$\"), pl.col(pl.Int64))"
   ]
  },
  {
   "cell_type": "code",
   "execution_count": 14,
   "id": "e27b9a6f-2730-411e-b708-d18b36b02b32",
   "metadata": {},
   "outputs": [
    {
     "data": {
      "text/html": [
       "<div><style>\n",
       ".dataframe > thead > tr,\n",
       ".dataframe > tbody > tr {\n",
       "  text-align: right;\n",
       "  white-space: pre-wrap;\n",
       "}\n",
       "</style>\n",
       "<small>shape: (791, 2)</small><table border=\"1\" class=\"dataframe\"><thead><tr><th>year</th><th>total_nests</th></tr><tr><td>i64</td><td>i64</td></tr></thead><tbody><tr><td>2000</td><td>15</td></tr><tr><td>2000</td><td>20</td></tr><tr><td>2000</td><td>312</td></tr><tr><td>2000</td><td>3</td></tr><tr><td>2000</td><td>5</td></tr><tr><td>&hellip;</td><td>&hellip;</td></tr><tr><td>2023</td><td>717</td></tr><tr><td>2023</td><td>44</td></tr><tr><td>2023</td><td>59</td></tr><tr><td>2023</td><td>48</td></tr><tr><td>2023</td><td>171</td></tr></tbody></table></div>"
      ],
      "text/plain": [
       "shape: (791, 2)\n",
       "┌──────┬─────────────┐\n",
       "│ year ┆ total_nests │\n",
       "│ ---  ┆ ---         │\n",
       "│ i64  ┆ i64         │\n",
       "╞══════╪═════════════╡\n",
       "│ 2000 ┆ 15          │\n",
       "│ 2000 ┆ 20          │\n",
       "│ 2000 ┆ 312         │\n",
       "│ 2000 ┆ 3           │\n",
       "│ 2000 ┆ 5           │\n",
       "│ …    ┆ …           │\n",
       "│ 2023 ┆ 717         │\n",
       "│ 2023 ┆ 44          │\n",
       "│ 2023 ┆ 59          │\n",
       "│ 2023 ┆ 48          │\n",
       "│ 2023 ┆ 171         │\n",
       "└──────┴─────────────┘"
      ]
     },
     "execution_count": 14,
     "metadata": {},
     "output_type": "execute_result"
    }
   ],
   "source": [
    "terns.select(\"year\", \"total_nests\")"
   ]
  },
  {
   "cell_type": "code",
   "execution_count": 24,
   "id": "e06217b9-332d-4ff8-88e1-b963dbc13fa7",
   "metadata": {},
   "outputs": [
    {
     "data": {
      "text/html": [
       "<div><style>\n",
       ".dataframe > thead > tr,\n",
       ".dataframe > tbody > tr {\n",
       "  text-align: right;\n",
       "  white-space: pre-wrap;\n",
       "}\n",
       "</style>\n",
       "<small>shape: (791, 1)</small><table border=\"1\" class=\"dataframe\"><thead><tr><th>year1</th></tr><tr><td>i64</td></tr></thead><tbody><tr><td>1999</td></tr><tr><td>1999</td></tr><tr><td>1999</td></tr><tr><td>1999</td></tr><tr><td>1999</td></tr><tr><td>&hellip;</td></tr><tr><td>2022</td></tr><tr><td>2022</td></tr><tr><td>2022</td></tr><tr><td>2022</td></tr><tr><td>2022</td></tr></tbody></table></div>"
      ],
      "text/plain": [
       "shape: (791, 1)\n",
       "┌───────┐\n",
       "│ year1 │\n",
       "│ ---   │\n",
       "│ i64   │\n",
       "╞═══════╡\n",
       "│ 1999  │\n",
       "│ 1999  │\n",
       "│ 1999  │\n",
       "│ 1999  │\n",
       "│ 1999  │\n",
       "│ …     │\n",
       "│ 2022  │\n",
       "│ 2022  │\n",
       "│ 2022  │\n",
       "│ 2022  │\n",
       "│ 2022  │\n",
       "└───────┘"
      ]
     },
     "execution_count": 24,
     "metadata": {},
     "output_type": "execute_result"
    }
   ],
   "source": [
    "terns.select(year1 = pl.col(\"year\") - 1)"
   ]
  },
  {
   "cell_type": "code",
   "execution_count": 25,
   "id": "bdc6340f-0626-45ab-9617-9658d17df03a",
   "metadata": {},
   "outputs": [
    {
     "data": {
      "text/html": [
       "<div><style>\n",
       ".dataframe > thead > tr,\n",
       ".dataframe > tbody > tr {\n",
       "  text-align: right;\n",
       "  white-space: pre-wrap;\n",
       "}\n",
       "</style>\n",
       "<small>shape: (791, 44)</small><table border=\"1\" class=\"dataframe\"><thead><tr><th>year</th><th>site_name</th><th>site_name_2013_2018</th><th>site_name_1988_2001</th><th>site_abbr</th><th>region_3</th><th>region_4</th><th>event</th><th>bp_min</th><th>bp_max</th><th>fl_min</th><th>fl_max</th><th>total_nests</th><th>nonpred_eggs</th><th>nonpred_chicks</th><th>nonpred_fl</th><th>nonpred_ad</th><th>pred_control</th><th>pred_eggs</th><th>pred_chicks</th><th>pred_fl</th><th>pred_ad</th><th>pred_pefa</th><th>pred_coy_fox</th><th>pred_meso</th><th>pred_owlspp</th><th>pred_corvid</th><th>pred_other_raptor</th><th>pred_other_avian</th><th>pred_misc</th><th>total_pefa</th><th>total_coy_fox</th><th>total_meso</th><th>total_owlspp</th><th>total_corvid</th><th>total_other_raptor</th><th>total_other_avian</th><th>total_misc</th><th>first_observed</th><th>last_observed</th><th>first_nest</th><th>first_chick</th><th>first_fledge</th><th>year1</th></tr><tr><td>i64</td><td>str</td><td>str</td><td>str</td><td>str</td><td>str</td><td>str</td><td>str</td><td>f64</td><td>f64</td><td>i64</td><td>i64</td><td>i64</td><td>i64</td><td>i64</td><td>i64</td><td>i64</td><td>str</td><td>i64</td><td>i64</td><td>i64</td><td>i64</td><td>str</td><td>str</td><td>str</td><td>str</td><td>str</td><td>str</td><td>str</td><td>str</td><td>i64</td><td>i64</td><td>i64</td><td>i64</td><td>i64</td><td>i64</td><td>i64</td><td>i64</td><td>str</td><td>str</td><td>str</td><td>str</td><td>str</td><td>i64</td></tr></thead><tbody><tr><td>2000</td><td>&quot;PITTSBURG POWER PLANT&quot;</td><td>&quot;Pittsburg Power Plant&quot;</td><td>&quot;NA_2013_2018 POLYGON&quot;</td><td>&quot;PITT_POWER&quot;</td><td>&quot;S.F._BAY&quot;</td><td>&quot;S.F._BAY&quot;</td><td>&quot;LA_NINA&quot;</td><td>15.0</td><td>15.0</td><td>16</td><td>18</td><td>15</td><td>3</td><td>0</td><td>0</td><td>0</td><td>null</td><td>4</td><td>2</td><td>0</td><td>0</td><td>&quot;N&quot;</td><td>&quot;N&quot;</td><td>&quot;N&quot;</td><td>&quot;N&quot;</td><td>&quot;Y&quot;</td><td>&quot;Y&quot;</td><td>&quot;N&quot;</td><td>&quot;N&quot;</td><td>0</td><td>0</td><td>0</td><td>0</td><td>4</td><td>2</td><td>0</td><td>0</td><td>&quot;2000-05-11&quot;</td><td>&quot;2000-08-05&quot;</td><td>&quot;2000-05-26&quot;</td><td>&quot;2000-06-18&quot;</td><td>&quot;2000-07-08&quot;</td><td>1999</td></tr><tr><td>2000</td><td>&quot;ALBANY CENTRAL AVE&quot;</td><td>&quot;NA_NO POLYGON&quot;</td><td>&quot;Albany Central Avenue&quot;</td><td>&quot;AL_CENTAVE&quot;</td><td>&quot;S.F._BAY&quot;</td><td>&quot;S.F._BAY&quot;</td><td>&quot;LA_NINA&quot;</td><td>6.0</td><td>12.0</td><td>1</td><td>1</td><td>20</td><td>null</td><td>null</td><td>null</td><td>null</td><td>null</td><td>null</td><td>null</td><td>null</td><td>null</td><td>null</td><td>null</td><td>null</td><td>null</td><td>null</td><td>null</td><td>null</td><td>null</td><td>null</td><td>null</td><td>null</td><td>null</td><td>null</td><td>null</td><td>null</td><td>null</td><td>null</td><td>null</td><td>null</td><td>null</td><td>null</td><td>1999</td></tr><tr><td>2000</td><td>&quot;ALAMEDA POINT&quot;</td><td>&quot;Alameda Point&quot;</td><td>&quot;NA_2013_2018 POLYGON&quot;</td><td>&quot;ALAM_PT&quot;</td><td>&quot;S.F._BAY&quot;</td><td>&quot;S.F._BAY&quot;</td><td>&quot;LA_NINA&quot;</td><td>282.0</td><td>301.0</td><td>200</td><td>230</td><td>312</td><td>124</td><td>81</td><td>2</td><td>1</td><td>null</td><td>17</td><td>0</td><td>0</td><td>0</td><td>&quot;N&quot;</td><td>&quot;N&quot;</td><td>&quot;N&quot;</td><td>&quot;N&quot;</td><td>&quot;N&quot;</td><td>&quot;Y&quot;</td><td>&quot;Y&quot;</td><td>&quot;N&quot;</td><td>0</td><td>0</td><td>0</td><td>0</td><td>0</td><td>6</td><td>11</td><td>0</td><td>&quot;2000-05-01&quot;</td><td>&quot;2000-08-19&quot;</td><td>&quot;2000-05-16&quot;</td><td>&quot;2000-06-07&quot;</td><td>&quot;2000-06-30&quot;</td><td>1999</td></tr><tr><td>2000</td><td>&quot;KETTLEMAN CITY&quot;</td><td>&quot;Kettleman&quot;</td><td>&quot;NA_2013_2018 POLYGON&quot;</td><td>&quot;KET_CTY&quot;</td><td>&quot;KINGS&quot;</td><td>&quot;KINGS&quot;</td><td>&quot;LA_NINA&quot;</td><td>2.0</td><td>3.0</td><td>1</td><td>2</td><td>3</td><td>null</td><td>3</td><td>1</td><td>6</td><td>null</td><td>null</td><td>null</td><td>null</td><td>null</td><td>null</td><td>null</td><td>null</td><td>null</td><td>null</td><td>null</td><td>null</td><td>null</td><td>null</td><td>null</td><td>null</td><td>null</td><td>null</td><td>null</td><td>null</td><td>null</td><td>&quot;2000-06-10&quot;</td><td>&quot;2000-09-24&quot;</td><td>&quot;2000-06-17&quot;</td><td>&quot;2000-07-22&quot;</td><td>&quot;2000-08-06&quot;</td><td>1999</td></tr><tr><td>2000</td><td>&quot;OCEANO DUNES STATE VEHICULAR R…</td><td>&quot;Oceano Dunes State Vehicular R…</td><td>&quot;NA_2013_2018 POLYGON&quot;</td><td>&quot;OCEANO_DUNES&quot;</td><td>&quot;CENTRAL&quot;</td><td>&quot;CENTRAL&quot;</td><td>&quot;LA_NINA&quot;</td><td>4.0</td><td>5.0</td><td>4</td><td>4</td><td>5</td><td>2</td><td>0</td><td>0</td><td>0</td><td>null</td><td>0</td><td>4</td><td>0</td><td>0</td><td>&quot;N&quot;</td><td>&quot;N&quot;</td><td>&quot;N&quot;</td><td>&quot;N&quot;</td><td>&quot;N&quot;</td><td>&quot;N&quot;</td><td>&quot;Y&quot;</td><td>&quot;N&quot;</td><td>0</td><td>0</td><td>0</td><td>0</td><td>0</td><td>0</td><td>4</td><td>0</td><td>&quot;2000-05-04&quot;</td><td>&quot;2000-08-30&quot;</td><td>&quot;2000-05-28&quot;</td><td>&quot;2000-06-20&quot;</td><td>&quot;2000-07-13&quot;</td><td>1999</td></tr><tr><td>&hellip;</td><td>&hellip;</td><td>&hellip;</td><td>&hellip;</td><td>&hellip;</td><td>&hellip;</td><td>&hellip;</td><td>&hellip;</td><td>&hellip;</td><td>&hellip;</td><td>&hellip;</td><td>&hellip;</td><td>&hellip;</td><td>&hellip;</td><td>&hellip;</td><td>&hellip;</td><td>&hellip;</td><td>&hellip;</td><td>&hellip;</td><td>&hellip;</td><td>&hellip;</td><td>&hellip;</td><td>&hellip;</td><td>&hellip;</td><td>&hellip;</td><td>&hellip;</td><td>&hellip;</td><td>&hellip;</td><td>&hellip;</td><td>&hellip;</td><td>&hellip;</td><td>&hellip;</td><td>&hellip;</td><td>&hellip;</td><td>&hellip;</td><td>&hellip;</td><td>&hellip;</td><td>&hellip;</td><td>&hellip;</td><td>&hellip;</td><td>&hellip;</td><td>&hellip;</td><td>&hellip;</td><td>&hellip;</td></tr><tr><td>2023</td><td>&quot;NAVAL AMPHIBIOUS BASE CORONADO&quot;</td><td>&quot;Naval Base Coronado&quot;</td><td>&quot;NA_2013_2018 POLYGON&quot;</td><td>&quot;NAB&quot;</td><td>&quot;SOUTHERN&quot;</td><td>&quot;SOUTHERN&quot;</td><td>&quot;LA_NINA&quot;</td><td>596.0</td><td>644.0</td><td>90</td><td>128</td><td>717</td><td>329</td><td>185</td><td>6</td><td>6</td><td>&quot;Y&quot;</td><td>null</td><td>null</td><td>null</td><td>null</td><td>&quot;N&quot;</td><td>&quot;N&quot;</td><td>&quot;N&quot;</td><td>&quot;N&quot;</td><td>&quot;Y&quot;</td><td>&quot;N&quot;</td><td>&quot;Y&quot;</td><td>&quot;Y&quot;</td><td>null</td><td>null</td><td>null</td><td>null</td><td>null</td><td>null</td><td>null</td><td>null</td><td>&quot;2023-04-22&quot;</td><td>&quot;2023-09-09&quot;</td><td>&quot;2023-05-07&quot;</td><td>&quot;2023-05-31&quot;</td><td>null</td><td>2022</td></tr><tr><td>2023</td><td>&quot;DSTREET FILL SWEETWATER MARSH …</td><td>&quot;D Street Fill&quot;</td><td>&quot;NA_2013_2018 POLYGON&quot;</td><td>&quot;D_ST&quot;</td><td>&quot;SOUTHERN&quot;</td><td>&quot;SOUTHERN&quot;</td><td>&quot;LA_NINA&quot;</td><td>29.0</td><td>38.0</td><td>4</td><td>4</td><td>44</td><td>25</td><td>2</td><td>0</td><td>0</td><td>&quot;Y&quot;</td><td>null</td><td>null</td><td>null</td><td>null</td><td>&quot;Y&quot;</td><td>&quot;N&quot;</td><td>&quot;N&quot;</td><td>&quot;N&quot;</td><td>&quot;N&quot;</td><td>&quot;Y&quot;</td><td>&quot;Y&quot;</td><td>&quot;Y&quot;</td><td>null</td><td>null</td><td>null</td><td>null</td><td>null</td><td>null</td><td>null</td><td>null</td><td>&quot;2023-04-20&quot;</td><td>&quot;2023-08-24&quot;</td><td>&quot;2023-05-12&quot;</td><td>&quot;2023-06-05&quot;</td><td>null</td><td>2022</td></tr><tr><td>2023</td><td>&quot;CHULA VISTA WILDLIFE RESERVE&quot;</td><td>&quot;Chula Vista Wildlife Refuge&quot;</td><td>&quot;NA_2013_2018 POLYGON&quot;</td><td>&quot;CV&quot;</td><td>&quot;SOUTHERN&quot;</td><td>&quot;SOUTHERN&quot;</td><td>&quot;LA_NINA&quot;</td><td>47.0</td><td>54.0</td><td>5</td><td>6</td><td>59</td><td>32</td><td>1</td><td>0</td><td>0</td><td>&quot;Y&quot;</td><td>null</td><td>null</td><td>null</td><td>null</td><td>&quot;Y&quot;</td><td>&quot;N&quot;</td><td>&quot;N&quot;</td><td>&quot;N&quot;</td><td>&quot;N&quot;</td><td>&quot;N&quot;</td><td>&quot;N&quot;</td><td>&quot;Y&quot;</td><td>null</td><td>null</td><td>null</td><td>null</td><td>null</td><td>null</td><td>null</td><td>null</td><td>&quot;2023-04-20&quot;</td><td>&quot;2023-09-22&quot;</td><td>&quot;2023-05-14&quot;</td><td>&quot;2023-06-05&quot;</td><td>null</td><td>2022</td></tr><tr><td>2023</td><td>&quot;SOUTH SAN DIEGO BAY UNIT SDNWR…</td><td>&quot;Saltworks&quot;</td><td>&quot;NA_2013_2018 POLYGON&quot;</td><td>&quot;SALT&quot;</td><td>&quot;SOUTHERN&quot;</td><td>&quot;SOUTHERN&quot;</td><td>&quot;LA_NINA&quot;</td><td>38.0</td><td>41.0</td><td>7</td><td>7</td><td>48</td><td>11</td><td>2</td><td>0</td><td>0</td><td>&quot;Y&quot;</td><td>null</td><td>null</td><td>null</td><td>null</td><td>&quot;Y&quot;</td><td>&quot;Y&quot;</td><td>&quot;N&quot;</td><td>&quot;N&quot;</td><td>&quot;N&quot;</td><td>&quot;Y&quot;</td><td>&quot;N&quot;</td><td>&quot;Y&quot;</td><td>null</td><td>null</td><td>null</td><td>null</td><td>null</td><td>null</td><td>null</td><td>null</td><td>&quot;2023-04-24&quot;</td><td>&quot;2023-09-22&quot;</td><td>&quot;2023-05-19&quot;</td><td>&quot;2023-06-09&quot;</td><td>null</td><td>2022</td></tr><tr><td>2023</td><td>&quot;TIJUANA ESTUARY NERR&quot;</td><td>&quot;Tijuana Estuary&quot;</td><td>&quot;NA_2013_2018 POLYGON&quot;</td><td>&quot;TJ_RIV&quot;</td><td>&quot;SOUTHERN&quot;</td><td>&quot;SOUTHERN&quot;</td><td>&quot;LA_NINA&quot;</td><td>144.0</td><td>165.0</td><td>35</td><td>35</td><td>171</td><td>65</td><td>44</td><td>1</td><td>1</td><td>&quot;Y&quot;</td><td>null</td><td>null</td><td>null</td><td>null</td><td>&quot;N&quot;</td><td>&quot;N&quot;</td><td>&quot;N&quot;</td><td>&quot;N&quot;</td><td>&quot;N&quot;</td><td>&quot;N&quot;</td><td>&quot;Y&quot;</td><td>&quot;Y&quot;</td><td>null</td><td>null</td><td>null</td><td>null</td><td>null</td><td>null</td><td>null</td><td>null</td><td>&quot;2023-04-26&quot;</td><td>&quot;2023-08-28&quot;</td><td>&quot;2023-05-12&quot;</td><td>&quot;2023-06-10&quot;</td><td>null</td><td>2022</td></tr></tbody></table></div>"
      ],
      "text/plain": [
       "shape: (791, 44)\n",
       "┌──────┬─────────────┬─────────────┬────────────┬───┬────────────┬────────────┬────────────┬───────┐\n",
       "│ year ┆ site_name   ┆ site_name_2 ┆ site_name_ ┆ … ┆ first_nest ┆ first_chic ┆ first_fled ┆ year1 │\n",
       "│ ---  ┆ ---         ┆ 013_2018    ┆ 1988_2001  ┆   ┆ ---        ┆ k          ┆ ge         ┆ ---   │\n",
       "│ i64  ┆ str         ┆ ---         ┆ ---        ┆   ┆ str        ┆ ---        ┆ ---        ┆ i64   │\n",
       "│      ┆             ┆ str         ┆ str        ┆   ┆            ┆ str        ┆ str        ┆       │\n",
       "╞══════╪═════════════╪═════════════╪════════════╪═══╪════════════╪════════════╪════════════╪═══════╡\n",
       "│ 2000 ┆ PITTSBURG   ┆ Pittsburg   ┆ NA_2013_20 ┆ … ┆ 2000-05-26 ┆ 2000-06-18 ┆ 2000-07-08 ┆ 1999  │\n",
       "│      ┆ POWER PLANT ┆ Power Plant ┆ 18 POLYGON ┆   ┆            ┆            ┆            ┆       │\n",
       "│ 2000 ┆ ALBANY      ┆ NA_NO       ┆ Albany     ┆ … ┆ null       ┆ null       ┆ null       ┆ 1999  │\n",
       "│      ┆ CENTRAL AVE ┆ POLYGON     ┆ Central    ┆   ┆            ┆            ┆            ┆       │\n",
       "│      ┆             ┆             ┆ Avenue     ┆   ┆            ┆            ┆            ┆       │\n",
       "│ 2000 ┆ ALAMEDA     ┆ Alameda     ┆ NA_2013_20 ┆ … ┆ 2000-05-16 ┆ 2000-06-07 ┆ 2000-06-30 ┆ 1999  │\n",
       "│      ┆ POINT       ┆ Point       ┆ 18 POLYGON ┆   ┆            ┆            ┆            ┆       │\n",
       "│ 2000 ┆ KETTLEMAN   ┆ Kettleman   ┆ NA_2013_20 ┆ … ┆ 2000-06-17 ┆ 2000-07-22 ┆ 2000-08-06 ┆ 1999  │\n",
       "│      ┆ CITY        ┆             ┆ 18 POLYGON ┆   ┆            ┆            ┆            ┆       │\n",
       "│ 2000 ┆ OCEANO      ┆ Oceano      ┆ NA_2013_20 ┆ … ┆ 2000-05-28 ┆ 2000-06-20 ┆ 2000-07-13 ┆ 1999  │\n",
       "│      ┆ DUNES STATE ┆ Dunes State ┆ 18 POLYGON ┆   ┆            ┆            ┆            ┆       │\n",
       "│      ┆ VEHICULAR   ┆ Vehicular   ┆            ┆   ┆            ┆            ┆            ┆       │\n",
       "│      ┆ R…          ┆ R…          ┆            ┆   ┆            ┆            ┆            ┆       │\n",
       "│ …    ┆ …           ┆ …           ┆ …          ┆ … ┆ …          ┆ …          ┆ …          ┆ …     │\n",
       "│ 2023 ┆ NAVAL       ┆ Naval Base  ┆ NA_2013_20 ┆ … ┆ 2023-05-07 ┆ 2023-05-31 ┆ null       ┆ 2022  │\n",
       "│      ┆ AMPHIBIOUS  ┆ Coronado    ┆ 18 POLYGON ┆   ┆            ┆            ┆            ┆       │\n",
       "│      ┆ BASE        ┆             ┆            ┆   ┆            ┆            ┆            ┆       │\n",
       "│      ┆ CORONADO    ┆             ┆            ┆   ┆            ┆            ┆            ┆       │\n",
       "│ 2023 ┆ DSTREET     ┆ D Street    ┆ NA_2013_20 ┆ … ┆ 2023-05-12 ┆ 2023-06-05 ┆ null       ┆ 2022  │\n",
       "│      ┆ FILL        ┆ Fill        ┆ 18 POLYGON ┆   ┆            ┆            ┆            ┆       │\n",
       "│      ┆ SWEETWATER  ┆             ┆            ┆   ┆            ┆            ┆            ┆       │\n",
       "│      ┆ MARSH …     ┆             ┆            ┆   ┆            ┆            ┆            ┆       │\n",
       "│ 2023 ┆ CHULA VISTA ┆ Chula Vista ┆ NA_2013_20 ┆ … ┆ 2023-05-14 ┆ 2023-06-05 ┆ null       ┆ 2022  │\n",
       "│      ┆ WILDLIFE    ┆ Wildlife    ┆ 18 POLYGON ┆   ┆            ┆            ┆            ┆       │\n",
       "│      ┆ RESERVE     ┆ Refuge      ┆            ┆   ┆            ┆            ┆            ┆       │\n",
       "│ 2023 ┆ SOUTH SAN   ┆ Saltworks   ┆ NA_2013_20 ┆ … ┆ 2023-05-19 ┆ 2023-06-09 ┆ null       ┆ 2022  │\n",
       "│      ┆ DIEGO BAY   ┆             ┆ 18 POLYGON ┆   ┆            ┆            ┆            ┆       │\n",
       "│      ┆ UNIT SDNWR… ┆             ┆            ┆   ┆            ┆            ┆            ┆       │\n",
       "│ 2023 ┆ TIJUANA     ┆ Tijuana     ┆ NA_2013_20 ┆ … ┆ 2023-05-12 ┆ 2023-06-10 ┆ null       ┆ 2022  │\n",
       "│      ┆ ESTUARY     ┆ Estuary     ┆ 18 POLYGON ┆   ┆            ┆            ┆            ┆       │\n",
       "│      ┆ NERR        ┆             ┆            ┆   ┆            ┆            ┆            ┆       │\n",
       "└──────┴─────────────┴─────────────┴────────────┴───┴────────────┴────────────┴────────────┴───────┘"
      ]
     },
     "execution_count": 25,
     "metadata": {},
     "output_type": "execute_result"
    }
   ],
   "source": [
    "terns.with_columns(year1 = pl.col(\"year\") - 1)"
   ]
  },
  {
   "cell_type": "code",
   "execution_count": 31,
   "id": "a580929e-2e7e-4ad8-a9bb-5fe80bad9afe",
   "metadata": {},
   "outputs": [
    {
     "data": {
      "text/html": [
       "<div><style>\n",
       ".dataframe > thead > tr,\n",
       ".dataframe > tbody > tr {\n",
       "  text-align: right;\n",
       "  white-space: pre-wrap;\n",
       "}\n",
       "</style>\n",
       "<small>shape: (5, 2)</small><table border=\"1\" class=\"dataframe\"><thead><tr><th>first_observed</th><th>last_observed</th></tr><tr><td>date</td><td>date</td></tr></thead><tbody><tr><td>2000-05-11</td><td>2000-08-05</td></tr><tr><td>null</td><td>null</td></tr><tr><td>2000-05-01</td><td>2000-08-19</td></tr><tr><td>2000-06-10</td><td>2000-09-24</td></tr><tr><td>2000-05-04</td><td>2000-08-30</td></tr></tbody></table></div>"
      ],
      "text/plain": [
       "shape: (5, 2)\n",
       "┌────────────────┬───────────────┐\n",
       "│ first_observed ┆ last_observed │\n",
       "│ ---            ┆ ---           │\n",
       "│ date           ┆ date          │\n",
       "╞════════════════╪═══════════════╡\n",
       "│ 2000-05-11     ┆ 2000-08-05    │\n",
       "│ null           ┆ null          │\n",
       "│ 2000-05-01     ┆ 2000-08-19    │\n",
       "│ 2000-06-10     ┆ 2000-09-24    │\n",
       "│ 2000-05-04     ┆ 2000-08-30    │\n",
       "└────────────────┴───────────────┘"
      ]
     },
     "execution_count": 31,
     "metadata": {},
     "output_type": "execute_result"
    }
   ],
   "source": [
    "dates = terns.select(\n",
    "    pl.col(\"first_observed\", \"last_observed\").str.to_date()\n",
    ")\n",
    "dates.head()"
   ]
  },
  {
   "cell_type": "code",
   "execution_count": 32,
   "id": "18e718c6-d990-43a0-86a2-f0cb615835ac",
   "metadata": {},
   "outputs": [
    {
     "data": {
      "text/plain": [
       "datetime.date(2000, 5, 11)"
      ]
     },
     "execution_count": 32,
     "metadata": {},
     "output_type": "execute_result"
    }
   ],
   "source": [
    "dates[0, 0]"
   ]
  },
  {
   "cell_type": "code",
   "execution_count": 33,
   "id": "85748a59-350e-4c79-b003-dfd63871a5d8",
   "metadata": {},
   "outputs": [
    {
     "data": {
      "text/plain": [
       "[Date, Date]"
      ]
     },
     "execution_count": 33,
     "metadata": {},
     "output_type": "execute_result"
    }
   ],
   "source": [
    "dates.dtypes"
   ]
  },
  {
   "cell_type": "code",
   "execution_count": 13,
   "id": "f63dc3d0-b249-48ba-a122-9732131ebab6",
   "metadata": {},
   "outputs": [
    {
     "data": {
      "text/html": [
       "<div><style>\n",
       ".dataframe > thead > tr,\n",
       ".dataframe > tbody > tr {\n",
       "  text-align: right;\n",
       "  white-space: pre-wrap;\n",
       "}\n",
       "</style>\n",
       "<small>shape: (791,)</small><table border=\"1\" class=\"dataframe\"><thead><tr><th>year</th></tr><tr><td>i64</td></tr></thead><tbody><tr><td>2000</td></tr><tr><td>2000</td></tr><tr><td>2000</td></tr><tr><td>2000</td></tr><tr><td>2000</td></tr><tr><td>&hellip;</td></tr><tr><td>2023</td></tr><tr><td>2023</td></tr><tr><td>2023</td></tr><tr><td>2023</td></tr><tr><td>2023</td></tr></tbody></table></div>"
      ],
      "text/plain": [
       "shape: (791,)\n",
       "Series: 'year' [i64]\n",
       "[\n",
       "\t2000\n",
       "\t2000\n",
       "\t2000\n",
       "\t2000\n",
       "\t2000\n",
       "\t…\n",
       "\t2023\n",
       "\t2023\n",
       "\t2023\n",
       "\t2023\n",
       "\t2023\n",
       "]"
      ]
     },
     "execution_count": 13,
     "metadata": {},
     "output_type": "execute_result"
    }
   ],
   "source": [
    "terns[\"year\"]"
   ]
  },
  {
   "cell_type": "code",
   "execution_count": 34,
   "id": "d52e81e5-434f-444d-8702-3a07ae7c7067",
   "metadata": {},
   "outputs": [],
   "source": [
    "lazyterns = pl.scan_csv(\"../data/2000-2023_ca_least_tern.csv\")"
   ]
  },
  {
   "cell_type": "code",
   "execution_count": 35,
   "id": "f62f62ca-988e-4a93-b619-5255288edf65",
   "metadata": {},
   "outputs": [],
   "source": [
    "lazyterns = lazyterns.with_columns(\n",
    "    pl.col(\"first_observed\", \"last_observed\").str.to_date()\n",
    ")"
   ]
  },
  {
   "cell_type": "code",
   "execution_count": 37,
   "id": "2eb16ac8-1320-4699-af9f-7c2f20477ef2",
   "metadata": {},
   "outputs": [],
   "source": [
    "lazyterns = lazyterns.with_columns(pl.col(\"year\") - 1)"
   ]
  },
  {
   "cell_type": "code",
   "execution_count": 38,
   "id": "421d7816-55ed-446c-bc94-d4650ea5f9b9",
   "metadata": {},
   "outputs": [
    {
     "data": {
      "text/html": [
       "<i>naive plan: (run <b>LazyFrame.explain(optimized=True)</b> to see the optimized plan)</i>\n",
       "    <p></p>\n",
       "    <div> WITH_COLUMNS:<p></p> [[(col(\"year\")) - (1)]] <p></p>   WITH_COLUMNS:<p></p>   [col(\"first_observed\").str.strptime([String(raise)]), col(\"last_observed\").str.strptime([String(raise)])] <p></p>    Csv SCAN [../data/2000-2023_ca_least_tern.csv]<p></p>    PROJECT */43 COLUMNS</div>"
      ],
      "text/plain": [
       "<LazyFrame at 0x736151257570>"
      ]
     },
     "execution_count": 38,
     "metadata": {},
     "output_type": "execute_result"
    }
   ],
   "source": [
    "lazyterns"
   ]
  },
  {
   "cell_type": "code",
   "execution_count": 39,
   "id": "b50ca86d-fe42-41ff-82fe-1045bf8d2c9e",
   "metadata": {},
   "outputs": [
    {
     "data": {
      "text/html": [
       "<div><style>\n",
       ".dataframe > thead > tr,\n",
       ".dataframe > tbody > tr {\n",
       "  text-align: right;\n",
       "  white-space: pre-wrap;\n",
       "}\n",
       "</style>\n",
       "<small>shape: (791, 43)</small><table border=\"1\" class=\"dataframe\"><thead><tr><th>year</th><th>site_name</th><th>site_name_2013_2018</th><th>site_name_1988_2001</th><th>site_abbr</th><th>region_3</th><th>region_4</th><th>event</th><th>bp_min</th><th>bp_max</th><th>fl_min</th><th>fl_max</th><th>total_nests</th><th>nonpred_eggs</th><th>nonpred_chicks</th><th>nonpred_fl</th><th>nonpred_ad</th><th>pred_control</th><th>pred_eggs</th><th>pred_chicks</th><th>pred_fl</th><th>pred_ad</th><th>pred_pefa</th><th>pred_coy_fox</th><th>pred_meso</th><th>pred_owlspp</th><th>pred_corvid</th><th>pred_other_raptor</th><th>pred_other_avian</th><th>pred_misc</th><th>total_pefa</th><th>total_coy_fox</th><th>total_meso</th><th>total_owlspp</th><th>total_corvid</th><th>total_other_raptor</th><th>total_other_avian</th><th>total_misc</th><th>first_observed</th><th>last_observed</th><th>first_nest</th><th>first_chick</th><th>first_fledge</th></tr><tr><td>i64</td><td>str</td><td>str</td><td>str</td><td>str</td><td>str</td><td>str</td><td>str</td><td>f64</td><td>f64</td><td>i64</td><td>i64</td><td>i64</td><td>i64</td><td>i64</td><td>i64</td><td>i64</td><td>str</td><td>i64</td><td>i64</td><td>i64</td><td>i64</td><td>str</td><td>str</td><td>str</td><td>str</td><td>str</td><td>str</td><td>str</td><td>str</td><td>i64</td><td>i64</td><td>i64</td><td>i64</td><td>i64</td><td>i64</td><td>i64</td><td>i64</td><td>date</td><td>date</td><td>str</td><td>str</td><td>str</td></tr></thead><tbody><tr><td>1999</td><td>&quot;PITTSBURG POWER PLANT&quot;</td><td>&quot;Pittsburg Power Plant&quot;</td><td>&quot;NA_2013_2018 POLYGON&quot;</td><td>&quot;PITT_POWER&quot;</td><td>&quot;S.F._BAY&quot;</td><td>&quot;S.F._BAY&quot;</td><td>&quot;LA_NINA&quot;</td><td>15.0</td><td>15.0</td><td>16</td><td>18</td><td>15</td><td>3</td><td>0</td><td>0</td><td>0</td><td>null</td><td>4</td><td>2</td><td>0</td><td>0</td><td>&quot;N&quot;</td><td>&quot;N&quot;</td><td>&quot;N&quot;</td><td>&quot;N&quot;</td><td>&quot;Y&quot;</td><td>&quot;Y&quot;</td><td>&quot;N&quot;</td><td>&quot;N&quot;</td><td>0</td><td>0</td><td>0</td><td>0</td><td>4</td><td>2</td><td>0</td><td>0</td><td>2000-05-11</td><td>2000-08-05</td><td>&quot;2000-05-26&quot;</td><td>&quot;2000-06-18&quot;</td><td>&quot;2000-07-08&quot;</td></tr><tr><td>1999</td><td>&quot;ALBANY CENTRAL AVE&quot;</td><td>&quot;NA_NO POLYGON&quot;</td><td>&quot;Albany Central Avenue&quot;</td><td>&quot;AL_CENTAVE&quot;</td><td>&quot;S.F._BAY&quot;</td><td>&quot;S.F._BAY&quot;</td><td>&quot;LA_NINA&quot;</td><td>6.0</td><td>12.0</td><td>1</td><td>1</td><td>20</td><td>null</td><td>null</td><td>null</td><td>null</td><td>null</td><td>null</td><td>null</td><td>null</td><td>null</td><td>null</td><td>null</td><td>null</td><td>null</td><td>null</td><td>null</td><td>null</td><td>null</td><td>null</td><td>null</td><td>null</td><td>null</td><td>null</td><td>null</td><td>null</td><td>null</td><td>null</td><td>null</td><td>null</td><td>null</td><td>null</td></tr><tr><td>1999</td><td>&quot;ALAMEDA POINT&quot;</td><td>&quot;Alameda Point&quot;</td><td>&quot;NA_2013_2018 POLYGON&quot;</td><td>&quot;ALAM_PT&quot;</td><td>&quot;S.F._BAY&quot;</td><td>&quot;S.F._BAY&quot;</td><td>&quot;LA_NINA&quot;</td><td>282.0</td><td>301.0</td><td>200</td><td>230</td><td>312</td><td>124</td><td>81</td><td>2</td><td>1</td><td>null</td><td>17</td><td>0</td><td>0</td><td>0</td><td>&quot;N&quot;</td><td>&quot;N&quot;</td><td>&quot;N&quot;</td><td>&quot;N&quot;</td><td>&quot;N&quot;</td><td>&quot;Y&quot;</td><td>&quot;Y&quot;</td><td>&quot;N&quot;</td><td>0</td><td>0</td><td>0</td><td>0</td><td>0</td><td>6</td><td>11</td><td>0</td><td>2000-05-01</td><td>2000-08-19</td><td>&quot;2000-05-16&quot;</td><td>&quot;2000-06-07&quot;</td><td>&quot;2000-06-30&quot;</td></tr><tr><td>1999</td><td>&quot;KETTLEMAN CITY&quot;</td><td>&quot;Kettleman&quot;</td><td>&quot;NA_2013_2018 POLYGON&quot;</td><td>&quot;KET_CTY&quot;</td><td>&quot;KINGS&quot;</td><td>&quot;KINGS&quot;</td><td>&quot;LA_NINA&quot;</td><td>2.0</td><td>3.0</td><td>1</td><td>2</td><td>3</td><td>null</td><td>3</td><td>1</td><td>6</td><td>null</td><td>null</td><td>null</td><td>null</td><td>null</td><td>null</td><td>null</td><td>null</td><td>null</td><td>null</td><td>null</td><td>null</td><td>null</td><td>null</td><td>null</td><td>null</td><td>null</td><td>null</td><td>null</td><td>null</td><td>null</td><td>2000-06-10</td><td>2000-09-24</td><td>&quot;2000-06-17&quot;</td><td>&quot;2000-07-22&quot;</td><td>&quot;2000-08-06&quot;</td></tr><tr><td>1999</td><td>&quot;OCEANO DUNES STATE VEHICULAR R…</td><td>&quot;Oceano Dunes State Vehicular R…</td><td>&quot;NA_2013_2018 POLYGON&quot;</td><td>&quot;OCEANO_DUNES&quot;</td><td>&quot;CENTRAL&quot;</td><td>&quot;CENTRAL&quot;</td><td>&quot;LA_NINA&quot;</td><td>4.0</td><td>5.0</td><td>4</td><td>4</td><td>5</td><td>2</td><td>0</td><td>0</td><td>0</td><td>null</td><td>0</td><td>4</td><td>0</td><td>0</td><td>&quot;N&quot;</td><td>&quot;N&quot;</td><td>&quot;N&quot;</td><td>&quot;N&quot;</td><td>&quot;N&quot;</td><td>&quot;N&quot;</td><td>&quot;Y&quot;</td><td>&quot;N&quot;</td><td>0</td><td>0</td><td>0</td><td>0</td><td>0</td><td>0</td><td>4</td><td>0</td><td>2000-05-04</td><td>2000-08-30</td><td>&quot;2000-05-28&quot;</td><td>&quot;2000-06-20&quot;</td><td>&quot;2000-07-13&quot;</td></tr><tr><td>&hellip;</td><td>&hellip;</td><td>&hellip;</td><td>&hellip;</td><td>&hellip;</td><td>&hellip;</td><td>&hellip;</td><td>&hellip;</td><td>&hellip;</td><td>&hellip;</td><td>&hellip;</td><td>&hellip;</td><td>&hellip;</td><td>&hellip;</td><td>&hellip;</td><td>&hellip;</td><td>&hellip;</td><td>&hellip;</td><td>&hellip;</td><td>&hellip;</td><td>&hellip;</td><td>&hellip;</td><td>&hellip;</td><td>&hellip;</td><td>&hellip;</td><td>&hellip;</td><td>&hellip;</td><td>&hellip;</td><td>&hellip;</td><td>&hellip;</td><td>&hellip;</td><td>&hellip;</td><td>&hellip;</td><td>&hellip;</td><td>&hellip;</td><td>&hellip;</td><td>&hellip;</td><td>&hellip;</td><td>&hellip;</td><td>&hellip;</td><td>&hellip;</td><td>&hellip;</td><td>&hellip;</td></tr><tr><td>2022</td><td>&quot;NAVAL AMPHIBIOUS BASE CORONADO&quot;</td><td>&quot;Naval Base Coronado&quot;</td><td>&quot;NA_2013_2018 POLYGON&quot;</td><td>&quot;NAB&quot;</td><td>&quot;SOUTHERN&quot;</td><td>&quot;SOUTHERN&quot;</td><td>&quot;LA_NINA&quot;</td><td>596.0</td><td>644.0</td><td>90</td><td>128</td><td>717</td><td>329</td><td>185</td><td>6</td><td>6</td><td>&quot;Y&quot;</td><td>null</td><td>null</td><td>null</td><td>null</td><td>&quot;N&quot;</td><td>&quot;N&quot;</td><td>&quot;N&quot;</td><td>&quot;N&quot;</td><td>&quot;Y&quot;</td><td>&quot;N&quot;</td><td>&quot;Y&quot;</td><td>&quot;Y&quot;</td><td>null</td><td>null</td><td>null</td><td>null</td><td>null</td><td>null</td><td>null</td><td>null</td><td>2023-04-22</td><td>2023-09-09</td><td>&quot;2023-05-07&quot;</td><td>&quot;2023-05-31&quot;</td><td>null</td></tr><tr><td>2022</td><td>&quot;DSTREET FILL SWEETWATER MARSH …</td><td>&quot;D Street Fill&quot;</td><td>&quot;NA_2013_2018 POLYGON&quot;</td><td>&quot;D_ST&quot;</td><td>&quot;SOUTHERN&quot;</td><td>&quot;SOUTHERN&quot;</td><td>&quot;LA_NINA&quot;</td><td>29.0</td><td>38.0</td><td>4</td><td>4</td><td>44</td><td>25</td><td>2</td><td>0</td><td>0</td><td>&quot;Y&quot;</td><td>null</td><td>null</td><td>null</td><td>null</td><td>&quot;Y&quot;</td><td>&quot;N&quot;</td><td>&quot;N&quot;</td><td>&quot;N&quot;</td><td>&quot;N&quot;</td><td>&quot;Y&quot;</td><td>&quot;Y&quot;</td><td>&quot;Y&quot;</td><td>null</td><td>null</td><td>null</td><td>null</td><td>null</td><td>null</td><td>null</td><td>null</td><td>2023-04-20</td><td>2023-08-24</td><td>&quot;2023-05-12&quot;</td><td>&quot;2023-06-05&quot;</td><td>null</td></tr><tr><td>2022</td><td>&quot;CHULA VISTA WILDLIFE RESERVE&quot;</td><td>&quot;Chula Vista Wildlife Refuge&quot;</td><td>&quot;NA_2013_2018 POLYGON&quot;</td><td>&quot;CV&quot;</td><td>&quot;SOUTHERN&quot;</td><td>&quot;SOUTHERN&quot;</td><td>&quot;LA_NINA&quot;</td><td>47.0</td><td>54.0</td><td>5</td><td>6</td><td>59</td><td>32</td><td>1</td><td>0</td><td>0</td><td>&quot;Y&quot;</td><td>null</td><td>null</td><td>null</td><td>null</td><td>&quot;Y&quot;</td><td>&quot;N&quot;</td><td>&quot;N&quot;</td><td>&quot;N&quot;</td><td>&quot;N&quot;</td><td>&quot;N&quot;</td><td>&quot;N&quot;</td><td>&quot;Y&quot;</td><td>null</td><td>null</td><td>null</td><td>null</td><td>null</td><td>null</td><td>null</td><td>null</td><td>2023-04-20</td><td>2023-09-22</td><td>&quot;2023-05-14&quot;</td><td>&quot;2023-06-05&quot;</td><td>null</td></tr><tr><td>2022</td><td>&quot;SOUTH SAN DIEGO BAY UNIT SDNWR…</td><td>&quot;Saltworks&quot;</td><td>&quot;NA_2013_2018 POLYGON&quot;</td><td>&quot;SALT&quot;</td><td>&quot;SOUTHERN&quot;</td><td>&quot;SOUTHERN&quot;</td><td>&quot;LA_NINA&quot;</td><td>38.0</td><td>41.0</td><td>7</td><td>7</td><td>48</td><td>11</td><td>2</td><td>0</td><td>0</td><td>&quot;Y&quot;</td><td>null</td><td>null</td><td>null</td><td>null</td><td>&quot;Y&quot;</td><td>&quot;Y&quot;</td><td>&quot;N&quot;</td><td>&quot;N&quot;</td><td>&quot;N&quot;</td><td>&quot;Y&quot;</td><td>&quot;N&quot;</td><td>&quot;Y&quot;</td><td>null</td><td>null</td><td>null</td><td>null</td><td>null</td><td>null</td><td>null</td><td>null</td><td>2023-04-24</td><td>2023-09-22</td><td>&quot;2023-05-19&quot;</td><td>&quot;2023-06-09&quot;</td><td>null</td></tr><tr><td>2022</td><td>&quot;TIJUANA ESTUARY NERR&quot;</td><td>&quot;Tijuana Estuary&quot;</td><td>&quot;NA_2013_2018 POLYGON&quot;</td><td>&quot;TJ_RIV&quot;</td><td>&quot;SOUTHERN&quot;</td><td>&quot;SOUTHERN&quot;</td><td>&quot;LA_NINA&quot;</td><td>144.0</td><td>165.0</td><td>35</td><td>35</td><td>171</td><td>65</td><td>44</td><td>1</td><td>1</td><td>&quot;Y&quot;</td><td>null</td><td>null</td><td>null</td><td>null</td><td>&quot;N&quot;</td><td>&quot;N&quot;</td><td>&quot;N&quot;</td><td>&quot;N&quot;</td><td>&quot;N&quot;</td><td>&quot;N&quot;</td><td>&quot;Y&quot;</td><td>&quot;Y&quot;</td><td>null</td><td>null</td><td>null</td><td>null</td><td>null</td><td>null</td><td>null</td><td>null</td><td>2023-04-26</td><td>2023-08-28</td><td>&quot;2023-05-12&quot;</td><td>&quot;2023-06-10&quot;</td><td>null</td></tr></tbody></table></div>"
      ],
      "text/plain": [
       "shape: (791, 43)\n",
       "┌──────┬────────────┬────────────┬────────────┬───┬────────────┬───────────┬───────────┬───────────┐\n",
       "│ year ┆ site_name  ┆ site_name_ ┆ site_name_ ┆ … ┆ last_obser ┆ first_nes ┆ first_chi ┆ first_fle │\n",
       "│ ---  ┆ ---        ┆ 2013_2018  ┆ 1988_2001  ┆   ┆ ved        ┆ t         ┆ ck        ┆ dge       │\n",
       "│ i64  ┆ str        ┆ ---        ┆ ---        ┆   ┆ ---        ┆ ---       ┆ ---       ┆ ---       │\n",
       "│      ┆            ┆ str        ┆ str        ┆   ┆ date       ┆ str       ┆ str       ┆ str       │\n",
       "╞══════╪════════════╪════════════╪════════════╪═══╪════════════╪═══════════╪═══════════╪═══════════╡\n",
       "│ 1999 ┆ PITTSBURG  ┆ Pittsburg  ┆ NA_2013_20 ┆ … ┆ 2000-08-05 ┆ 2000-05-2 ┆ 2000-06-1 ┆ 2000-07-0 │\n",
       "│      ┆ POWER      ┆ Power      ┆ 18 POLYGON ┆   ┆            ┆ 6         ┆ 8         ┆ 8         │\n",
       "│      ┆ PLANT      ┆ Plant      ┆            ┆   ┆            ┆           ┆           ┆           │\n",
       "│ 1999 ┆ ALBANY     ┆ NA_NO      ┆ Albany     ┆ … ┆ null       ┆ null      ┆ null      ┆ null      │\n",
       "│      ┆ CENTRAL    ┆ POLYGON    ┆ Central    ┆   ┆            ┆           ┆           ┆           │\n",
       "│      ┆ AVE        ┆            ┆ Avenue     ┆   ┆            ┆           ┆           ┆           │\n",
       "│ 1999 ┆ ALAMEDA    ┆ Alameda    ┆ NA_2013_20 ┆ … ┆ 2000-08-19 ┆ 2000-05-1 ┆ 2000-06-0 ┆ 2000-06-3 │\n",
       "│      ┆ POINT      ┆ Point      ┆ 18 POLYGON ┆   ┆            ┆ 6         ┆ 7         ┆ 0         │\n",
       "│ 1999 ┆ KETTLEMAN  ┆ Kettleman  ┆ NA_2013_20 ┆ … ┆ 2000-09-24 ┆ 2000-06-1 ┆ 2000-07-2 ┆ 2000-08-0 │\n",
       "│      ┆ CITY       ┆            ┆ 18 POLYGON ┆   ┆            ┆ 7         ┆ 2         ┆ 6         │\n",
       "│ 1999 ┆ OCEANO     ┆ Oceano     ┆ NA_2013_20 ┆ … ┆ 2000-08-30 ┆ 2000-05-2 ┆ 2000-06-2 ┆ 2000-07-1 │\n",
       "│      ┆ DUNES      ┆ Dunes      ┆ 18 POLYGON ┆   ┆            ┆ 8         ┆ 0         ┆ 3         │\n",
       "│      ┆ STATE      ┆ State      ┆            ┆   ┆            ┆           ┆           ┆           │\n",
       "│      ┆ VEHICULAR  ┆ Vehicular  ┆            ┆   ┆            ┆           ┆           ┆           │\n",
       "│      ┆ R…         ┆ R…         ┆            ┆   ┆            ┆           ┆           ┆           │\n",
       "│ …    ┆ …          ┆ …          ┆ …          ┆ … ┆ …          ┆ …         ┆ …         ┆ …         │\n",
       "│ 2022 ┆ NAVAL      ┆ Naval Base ┆ NA_2013_20 ┆ … ┆ 2023-09-09 ┆ 2023-05-0 ┆ 2023-05-3 ┆ null      │\n",
       "│      ┆ AMPHIBIOUS ┆ Coronado   ┆ 18 POLYGON ┆   ┆            ┆ 7         ┆ 1         ┆           │\n",
       "│      ┆ BASE       ┆            ┆            ┆   ┆            ┆           ┆           ┆           │\n",
       "│      ┆ CORONADO   ┆            ┆            ┆   ┆            ┆           ┆           ┆           │\n",
       "│ 2022 ┆ DSTREET    ┆ D Street   ┆ NA_2013_20 ┆ … ┆ 2023-08-24 ┆ 2023-05-1 ┆ 2023-06-0 ┆ null      │\n",
       "│      ┆ FILL       ┆ Fill       ┆ 18 POLYGON ┆   ┆            ┆ 2         ┆ 5         ┆           │\n",
       "│      ┆ SWEETWATER ┆            ┆            ┆   ┆            ┆           ┆           ┆           │\n",
       "│      ┆ MARSH …    ┆            ┆            ┆   ┆            ┆           ┆           ┆           │\n",
       "│ 2022 ┆ CHULA      ┆ Chula      ┆ NA_2013_20 ┆ … ┆ 2023-09-22 ┆ 2023-05-1 ┆ 2023-06-0 ┆ null      │\n",
       "│      ┆ VISTA      ┆ Vista      ┆ 18 POLYGON ┆   ┆            ┆ 4         ┆ 5         ┆           │\n",
       "│      ┆ WILDLIFE   ┆ Wildlife   ┆            ┆   ┆            ┆           ┆           ┆           │\n",
       "│      ┆ RESERVE    ┆ Refuge     ┆            ┆   ┆            ┆           ┆           ┆           │\n",
       "│ 2022 ┆ SOUTH SAN  ┆ Saltworks  ┆ NA_2013_20 ┆ … ┆ 2023-09-22 ┆ 2023-05-1 ┆ 2023-06-0 ┆ null      │\n",
       "│      ┆ DIEGO BAY  ┆            ┆ 18 POLYGON ┆   ┆            ┆ 9         ┆ 9         ┆           │\n",
       "│      ┆ UNIT       ┆            ┆            ┆   ┆            ┆           ┆           ┆           │\n",
       "│      ┆ SDNWR…     ┆            ┆            ┆   ┆            ┆           ┆           ┆           │\n",
       "│ 2022 ┆ TIJUANA    ┆ Tijuana    ┆ NA_2013_20 ┆ … ┆ 2023-08-28 ┆ 2023-05-1 ┆ 2023-06-1 ┆ null      │\n",
       "│      ┆ ESTUARY    ┆ Estuary    ┆ 18 POLYGON ┆   ┆            ┆ 2         ┆ 0         ┆           │\n",
       "│      ┆ NERR       ┆            ┆            ┆   ┆            ┆           ┆           ┆           │\n",
       "└──────┴────────────┴────────────┴────────────┴───┴────────────┴───────────┴───────────┴───────────┘"
      ]
     },
     "execution_count": 39,
     "metadata": {},
     "output_type": "execute_result"
    }
   ],
   "source": [
    "lazyterns.collect()"
   ]
  },
  {
   "cell_type": "code",
   "execution_count": null,
   "id": "8652d935-6b11-4b70-9f26-103fc0117bf4",
   "metadata": {},
   "outputs": [],
   "source": []
  }
 ],
 "metadata": {
  "kernelspec": {
   "display_name": "Python 3 (ipykernel)",
   "language": "python",
   "name": "python3"
  },
  "language_info": {
   "codemirror_mode": {
    "name": "ipython",
    "version": 3
   },
   "file_extension": ".py",
   "mimetype": "text/x-python",
   "name": "python",
   "nbconvert_exporter": "python",
   "pygments_lexer": "ipython3",
   "version": "3.13.2"
  }
 },
 "nbformat": 4,
 "nbformat_minor": 5
}
